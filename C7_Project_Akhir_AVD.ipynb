{
  "nbformat": 4,
  "nbformat_minor": 0,
  "metadata": {
    "colab": {
      "name": "Project Akhir AVD.ipynb",
      "provenance": [],
      "collapsed_sections": [
        "Z09bCgTbpx1F",
        "klBKkB6GzbND",
        "oo-DOpuwznlU",
        "C2ZZ9gsMz50R",
        "pXS6JoT_0998",
        "j8jILYwp0Jic",
        "Qnq887sr0u8t",
        "-bex_pee1Ikh",
        "b3tqHHQK1QKC",
        "jy4UulLb1oHT",
        "tvOZO1mP1wLK",
        "zAizzrbO2eTZ",
        "h-qU61qN2xxS",
        "n1weFwuy2-aT",
        "N0cCN7wUKDuG",
        "7HIxBkyrKMfa",
        "DSca2VoBKaY6",
        "ARAu-MeLv4Sm"
      ]
    },
    "kernelspec": {
      "name": "python3",
      "display_name": "Python 3"
    },
    "language_info": {
      "name": "python"
    }
  },
  "cells": [
    {
      "cell_type": "markdown",
      "source": [
        "**Analisis Pengaruh Penggunaan *Device* Saat\n",
        "Pembelajaran Daring Terhadap Kelelahan Fisik\n",
        "Mahasiswa Indonesia**\n",
        "\n",
        "Kelas : Analitik Visualisasi Data C\n",
        "\n",
        "Oleh Kelompok C7 :\n",
        "\n",
        "202410101001 - Lilik Dwi Wulandari\n",
        "\n",
        "202410101003 - Raihan Maulana Ramadhan\n",
        "\n",
        "202410101025 - Gusti Ayu Chairunnisa\n",
        "\n",
        "202410101037 - Anita Silvia Budiarti\n",
        "\n",
        "202410101057 - Muhammad Hidayatur Rahman"
      ],
      "metadata": {
        "id": "ugmjs4TFyXIB"
      }
    },
    {
      "cell_type": "markdown",
      "source": [
        "#Pra pemrosesan data"
      ],
      "metadata": {
        "id": "Z09bCgTbpx1F"
      }
    },
    {
      "cell_type": "markdown",
      "source": [
        "##Read Dataset"
      ],
      "metadata": {
        "id": "klBKkB6GzbND"
      }
    },
    {
      "cell_type": "code",
      "metadata": {
        "id": "yqSMmKRsvEox"
      },
      "source": [
        "import pandas as pd"
      ],
      "execution_count": null,
      "outputs": []
    },
    {
      "cell_type": "code",
      "metadata": {
        "colab": {
          "base_uri": "https://localhost:8080/",
          "height": 478
        },
        "id": "JK_kyozkIAo3",
        "outputId": "75f26baf-71dd-4701-8051-fc783da46891"
      },
      "source": [
        "data_path = '/content/ZoomFatigue.csv'\n",
        "loan_data = pd.read_csv(data_path, sep=';')\n",
        "loan_data"
      ],
      "execution_count": null,
      "outputs": [
        {
          "output_type": "execute_result",
          "data": {
            "text/html": [
              "<div>\n",
              "<style scoped>\n",
              "    .dataframe tbody tr th:only-of-type {\n",
              "        vertical-align: middle;\n",
              "    }\n",
              "\n",
              "    .dataframe tbody tr th {\n",
              "        vertical-align: top;\n",
              "    }\n",
              "\n",
              "    .dataframe thead th {\n",
              "        text-align: right;\n",
              "    }\n",
              "</style>\n",
              "<table border=\"1\" class=\"dataframe\">\n",
              "  <thead>\n",
              "    <tr style=\"text-align: right;\">\n",
              "      <th></th>\n",
              "      <th>jenis_kelamin</th>\n",
              "      <th>avg_usage</th>\n",
              "      <th>device</th>\n",
              "      <th>screen</th>\n",
              "      <th>with_desk</th>\n",
              "      <th>with_sofa</th>\n",
              "      <th>on_floor</th>\n",
              "      <th>lay_low</th>\n",
              "      <th>mobile</th>\n",
              "      <th>audio_device</th>\n",
              "      <th>limit</th>\n",
              "      <th>is_mata_lelah</th>\n",
              "      <th>is_pegal_pinggang</th>\n",
              "      <th>is_kesemutan</th>\n",
              "      <th>is_pegal_leher</th>\n",
              "      <th>is_sakit_kepala</th>\n",
              "      <th>is_pegal_jari</th>\n",
              "    </tr>\n",
              "  </thead>\n",
              "  <tbody>\n",
              "    <tr>\n",
              "      <th>0</th>\n",
              "      <td>0</td>\n",
              "      <td>5,5</td>\n",
              "      <td>Handphone</td>\n",
              "      <td>6,5</td>\n",
              "      <td>2</td>\n",
              "      <td>3</td>\n",
              "      <td>4</td>\n",
              "      <td>5</td>\n",
              "      <td>1</td>\n",
              "      <td>Headset</td>\n",
              "      <td>2</td>\n",
              "      <td>1</td>\n",
              "      <td>1</td>\n",
              "      <td>1</td>\n",
              "      <td>0</td>\n",
              "      <td>0</td>\n",
              "      <td>0</td>\n",
              "    </tr>\n",
              "    <tr>\n",
              "      <th>1</th>\n",
              "      <td>0</td>\n",
              "      <td>5</td>\n",
              "      <td>Handphone</td>\n",
              "      <td>5,99</td>\n",
              "      <td>5</td>\n",
              "      <td>3</td>\n",
              "      <td>4</td>\n",
              "      <td>1</td>\n",
              "      <td>2</td>\n",
              "      <td>Headset</td>\n",
              "      <td>2</td>\n",
              "      <td>1</td>\n",
              "      <td>0</td>\n",
              "      <td>1</td>\n",
              "      <td>1</td>\n",
              "      <td>1</td>\n",
              "      <td>0</td>\n",
              "    </tr>\n",
              "    <tr>\n",
              "      <th>2</th>\n",
              "      <td>0</td>\n",
              "      <td>9</td>\n",
              "      <td>Laptop</td>\n",
              "      <td>15,6</td>\n",
              "      <td>3</td>\n",
              "      <td>4</td>\n",
              "      <td>5</td>\n",
              "      <td>1</td>\n",
              "      <td>2</td>\n",
              "      <td>built in speaker</td>\n",
              "      <td>2,5</td>\n",
              "      <td>1</td>\n",
              "      <td>1</td>\n",
              "      <td>0</td>\n",
              "      <td>1</td>\n",
              "      <td>1</td>\n",
              "      <td>0</td>\n",
              "    </tr>\n",
              "    <tr>\n",
              "      <th>3</th>\n",
              "      <td>1</td>\n",
              "      <td>5</td>\n",
              "      <td>Laptop</td>\n",
              "      <td>14</td>\n",
              "      <td>5</td>\n",
              "      <td>2</td>\n",
              "      <td>1</td>\n",
              "      <td>4</td>\n",
              "      <td>3</td>\n",
              "      <td>Earphone</td>\n",
              "      <td>1</td>\n",
              "      <td>0</td>\n",
              "      <td>1</td>\n",
              "      <td>0</td>\n",
              "      <td>0</td>\n",
              "      <td>0</td>\n",
              "      <td>0</td>\n",
              "    </tr>\n",
              "    <tr>\n",
              "      <th>4</th>\n",
              "      <td>0</td>\n",
              "      <td>2</td>\n",
              "      <td>Laptop</td>\n",
              "      <td>14</td>\n",
              "      <td>4</td>\n",
              "      <td>3</td>\n",
              "      <td>5</td>\n",
              "      <td>2</td>\n",
              "      <td>1</td>\n",
              "      <td>Earphone</td>\n",
              "      <td>1</td>\n",
              "      <td>0</td>\n",
              "      <td>0</td>\n",
              "      <td>1</td>\n",
              "      <td>0</td>\n",
              "      <td>0</td>\n",
              "      <td>0</td>\n",
              "    </tr>\n",
              "    <tr>\n",
              "      <th>...</th>\n",
              "      <td>...</td>\n",
              "      <td>...</td>\n",
              "      <td>...</td>\n",
              "      <td>...</td>\n",
              "      <td>...</td>\n",
              "      <td>...</td>\n",
              "      <td>...</td>\n",
              "      <td>...</td>\n",
              "      <td>...</td>\n",
              "      <td>...</td>\n",
              "      <td>...</td>\n",
              "      <td>...</td>\n",
              "      <td>...</td>\n",
              "      <td>...</td>\n",
              "      <td>...</td>\n",
              "      <td>...</td>\n",
              "      <td>...</td>\n",
              "    </tr>\n",
              "    <tr>\n",
              "      <th>283</th>\n",
              "      <td>1</td>\n",
              "      <td>5</td>\n",
              "      <td>Laptop</td>\n",
              "      <td>13</td>\n",
              "      <td>4</td>\n",
              "      <td>3</td>\n",
              "      <td>1</td>\n",
              "      <td>5</td>\n",
              "      <td>2</td>\n",
              "      <td>Headset</td>\n",
              "      <td>1</td>\n",
              "      <td>1</td>\n",
              "      <td>1</td>\n",
              "      <td>0</td>\n",
              "      <td>1</td>\n",
              "      <td>1</td>\n",
              "      <td>0</td>\n",
              "    </tr>\n",
              "    <tr>\n",
              "      <th>284</th>\n",
              "      <td>0</td>\n",
              "      <td>5</td>\n",
              "      <td>Komputer Desktop</td>\n",
              "      <td>23</td>\n",
              "      <td>5</td>\n",
              "      <td>1</td>\n",
              "      <td>2</td>\n",
              "      <td>3</td>\n",
              "      <td>4</td>\n",
              "      <td>built in speaker</td>\n",
              "      <td>1</td>\n",
              "      <td>0</td>\n",
              "      <td>1</td>\n",
              "      <td>0</td>\n",
              "      <td>1</td>\n",
              "      <td>0</td>\n",
              "      <td>0</td>\n",
              "    </tr>\n",
              "    <tr>\n",
              "      <th>285</th>\n",
              "      <td>0</td>\n",
              "      <td>7</td>\n",
              "      <td>Laptop</td>\n",
              "      <td>14</td>\n",
              "      <td>5</td>\n",
              "      <td>2</td>\n",
              "      <td>3</td>\n",
              "      <td>4</td>\n",
              "      <td>1</td>\n",
              "      <td>Earphone</td>\n",
              "      <td>2</td>\n",
              "      <td>1</td>\n",
              "      <td>1</td>\n",
              "      <td>0</td>\n",
              "      <td>1</td>\n",
              "      <td>1</td>\n",
              "      <td>1</td>\n",
              "    </tr>\n",
              "    <tr>\n",
              "      <th>286</th>\n",
              "      <td>1</td>\n",
              "      <td>4</td>\n",
              "      <td>Laptop</td>\n",
              "      <td>13</td>\n",
              "      <td>5</td>\n",
              "      <td>4</td>\n",
              "      <td>3</td>\n",
              "      <td>2</td>\n",
              "      <td>1</td>\n",
              "      <td>Earphone</td>\n",
              "      <td>1,5</td>\n",
              "      <td>1</td>\n",
              "      <td>1</td>\n",
              "      <td>0</td>\n",
              "      <td>1</td>\n",
              "      <td>1</td>\n",
              "      <td>0</td>\n",
              "    </tr>\n",
              "    <tr>\n",
              "      <th>287</th>\n",
              "      <td>1</td>\n",
              "      <td>6</td>\n",
              "      <td>Laptop</td>\n",
              "      <td>15,6</td>\n",
              "      <td>5</td>\n",
              "      <td>1</td>\n",
              "      <td>4</td>\n",
              "      <td>3</td>\n",
              "      <td>2</td>\n",
              "      <td>Earphone</td>\n",
              "      <td>1</td>\n",
              "      <td>0</td>\n",
              "      <td>0</td>\n",
              "      <td>0</td>\n",
              "      <td>0</td>\n",
              "      <td>0</td>\n",
              "      <td>0</td>\n",
              "    </tr>\n",
              "  </tbody>\n",
              "</table>\n",
              "<p>288 rows × 17 columns</p>\n",
              "</div>"
            ],
            "text/plain": [
              "     jenis_kelamin avg_usage  ... is_sakit_kepala is_pegal_jari\n",
              "0                0       5,5  ...               0             0\n",
              "1                0         5  ...               1             0\n",
              "2                0         9  ...               1             0\n",
              "3                1         5  ...               0             0\n",
              "4                0         2  ...               0             0\n",
              "..             ...       ...  ...             ...           ...\n",
              "283              1         5  ...               1             0\n",
              "284              0         5  ...               0             0\n",
              "285              0         7  ...               1             1\n",
              "286              1         4  ...               1             0\n",
              "287              1         6  ...               0             0\n",
              "\n",
              "[288 rows x 17 columns]"
            ]
          },
          "metadata": {},
          "execution_count": 2
        }
      ]
    },
    {
      "cell_type": "code",
      "metadata": {
        "colab": {
          "base_uri": "https://localhost:8080/"
        },
        "id": "AU0ef9MQypNv",
        "outputId": "fffb3cf1-fe3e-4eef-faec-ade77c7a9699"
      },
      "source": [
        "for i in loan_data.columns:\n",
        "  print(i)"
      ],
      "execution_count": null,
      "outputs": [
        {
          "output_type": "stream",
          "name": "stdout",
          "text": [
            "jenis_kelamin\n",
            "avg_usage\n",
            "device\n",
            "screen\n",
            "with_desk\n",
            "with_sofa\n",
            "on_floor\n",
            "lay_low\n",
            "mobile\n",
            "audio_device\n",
            "limit\n",
            "is_mata_lelah\n",
            "is_pegal_pinggang\n",
            "is_kesemutan\n",
            "is_pegal_leher\n",
            "is_sakit_kepala\n",
            "is_pegal_jari\n"
          ]
        }
      ]
    },
    {
      "cell_type": "markdown",
      "source": [
        "##Deteksi NaN Kolom"
      ],
      "metadata": {
        "id": "oo-DOpuwznlU"
      }
    },
    {
      "cell_type": "code",
      "metadata": {
        "colab": {
          "base_uri": "https://localhost:8080/"
        },
        "id": "DZfzSA6r0D11",
        "outputId": "159bc445-d02a-4057-c97f-651c409e7a5b"
      },
      "source": [
        "is_na = loan_data.isna().any(axis=0)\n",
        "is_na"
      ],
      "execution_count": null,
      "outputs": [
        {
          "output_type": "execute_result",
          "data": {
            "text/plain": [
              "jenis_kelamin        False\n",
              "avg_usage            False\n",
              "device               False\n",
              "screen               False\n",
              "with_desk            False\n",
              "with_sofa            False\n",
              "on_floor             False\n",
              "lay_low              False\n",
              "mobile               False\n",
              "audio_device         False\n",
              "limit                False\n",
              "is_mata_lelah        False\n",
              "is_pegal_pinggang    False\n",
              "is_kesemutan         False\n",
              "is_pegal_leher       False\n",
              "is_sakit_kepala      False\n",
              "is_pegal_jari        False\n",
              "dtype: bool"
            ]
          },
          "metadata": {},
          "execution_count": 4
        }
      ]
    },
    {
      "cell_type": "markdown",
      "metadata": {
        "id": "-SQouU700sYN"
      },
      "source": [
        "Tidak ditemukan kolom yang mengandung nilai NaN"
      ]
    },
    {
      "cell_type": "markdown",
      "source": [
        "##Delete Duplicate data"
      ],
      "metadata": {
        "id": "C2ZZ9gsMz50R"
      }
    },
    {
      "cell_type": "code",
      "metadata": {
        "id": "P7PrABqp0yyk"
      },
      "source": [
        "zoom_duplicated_free = loan_data.drop_duplicates()"
      ],
      "execution_count": null,
      "outputs": []
    },
    {
      "cell_type": "code",
      "metadata": {
        "colab": {
          "base_uri": "https://localhost:8080/",
          "height": 478
        },
        "id": "HstGr1rd3JW1",
        "outputId": "6ef05771-ca2e-4254-fb48-c903b771c607"
      },
      "source": [
        "zoom_duplicated_free"
      ],
      "execution_count": null,
      "outputs": [
        {
          "output_type": "execute_result",
          "data": {
            "text/html": [
              "<div>\n",
              "<style scoped>\n",
              "    .dataframe tbody tr th:only-of-type {\n",
              "        vertical-align: middle;\n",
              "    }\n",
              "\n",
              "    .dataframe tbody tr th {\n",
              "        vertical-align: top;\n",
              "    }\n",
              "\n",
              "    .dataframe thead th {\n",
              "        text-align: right;\n",
              "    }\n",
              "</style>\n",
              "<table border=\"1\" class=\"dataframe\">\n",
              "  <thead>\n",
              "    <tr style=\"text-align: right;\">\n",
              "      <th></th>\n",
              "      <th>jenis_kelamin</th>\n",
              "      <th>avg_usage</th>\n",
              "      <th>device</th>\n",
              "      <th>screen</th>\n",
              "      <th>with_desk</th>\n",
              "      <th>with_sofa</th>\n",
              "      <th>on_floor</th>\n",
              "      <th>lay_low</th>\n",
              "      <th>mobile</th>\n",
              "      <th>audio_device</th>\n",
              "      <th>limit</th>\n",
              "      <th>is_mata_lelah</th>\n",
              "      <th>is_pegal_pinggang</th>\n",
              "      <th>is_kesemutan</th>\n",
              "      <th>is_pegal_leher</th>\n",
              "      <th>is_sakit_kepala</th>\n",
              "      <th>is_pegal_jari</th>\n",
              "    </tr>\n",
              "  </thead>\n",
              "  <tbody>\n",
              "    <tr>\n",
              "      <th>0</th>\n",
              "      <td>0</td>\n",
              "      <td>5,5</td>\n",
              "      <td>Handphone</td>\n",
              "      <td>6,5</td>\n",
              "      <td>2</td>\n",
              "      <td>3</td>\n",
              "      <td>4</td>\n",
              "      <td>5</td>\n",
              "      <td>1</td>\n",
              "      <td>Headset</td>\n",
              "      <td>2</td>\n",
              "      <td>1</td>\n",
              "      <td>1</td>\n",
              "      <td>1</td>\n",
              "      <td>0</td>\n",
              "      <td>0</td>\n",
              "      <td>0</td>\n",
              "    </tr>\n",
              "    <tr>\n",
              "      <th>1</th>\n",
              "      <td>0</td>\n",
              "      <td>5</td>\n",
              "      <td>Handphone</td>\n",
              "      <td>5,99</td>\n",
              "      <td>5</td>\n",
              "      <td>3</td>\n",
              "      <td>4</td>\n",
              "      <td>1</td>\n",
              "      <td>2</td>\n",
              "      <td>Headset</td>\n",
              "      <td>2</td>\n",
              "      <td>1</td>\n",
              "      <td>0</td>\n",
              "      <td>1</td>\n",
              "      <td>1</td>\n",
              "      <td>1</td>\n",
              "      <td>0</td>\n",
              "    </tr>\n",
              "    <tr>\n",
              "      <th>2</th>\n",
              "      <td>0</td>\n",
              "      <td>9</td>\n",
              "      <td>Laptop</td>\n",
              "      <td>15,6</td>\n",
              "      <td>3</td>\n",
              "      <td>4</td>\n",
              "      <td>5</td>\n",
              "      <td>1</td>\n",
              "      <td>2</td>\n",
              "      <td>built in speaker</td>\n",
              "      <td>2,5</td>\n",
              "      <td>1</td>\n",
              "      <td>1</td>\n",
              "      <td>0</td>\n",
              "      <td>1</td>\n",
              "      <td>1</td>\n",
              "      <td>0</td>\n",
              "    </tr>\n",
              "    <tr>\n",
              "      <th>3</th>\n",
              "      <td>1</td>\n",
              "      <td>5</td>\n",
              "      <td>Laptop</td>\n",
              "      <td>14</td>\n",
              "      <td>5</td>\n",
              "      <td>2</td>\n",
              "      <td>1</td>\n",
              "      <td>4</td>\n",
              "      <td>3</td>\n",
              "      <td>Earphone</td>\n",
              "      <td>1</td>\n",
              "      <td>0</td>\n",
              "      <td>1</td>\n",
              "      <td>0</td>\n",
              "      <td>0</td>\n",
              "      <td>0</td>\n",
              "      <td>0</td>\n",
              "    </tr>\n",
              "    <tr>\n",
              "      <th>4</th>\n",
              "      <td>0</td>\n",
              "      <td>2</td>\n",
              "      <td>Laptop</td>\n",
              "      <td>14</td>\n",
              "      <td>4</td>\n",
              "      <td>3</td>\n",
              "      <td>5</td>\n",
              "      <td>2</td>\n",
              "      <td>1</td>\n",
              "      <td>Earphone</td>\n",
              "      <td>1</td>\n",
              "      <td>0</td>\n",
              "      <td>0</td>\n",
              "      <td>1</td>\n",
              "      <td>0</td>\n",
              "      <td>0</td>\n",
              "      <td>0</td>\n",
              "    </tr>\n",
              "    <tr>\n",
              "      <th>...</th>\n",
              "      <td>...</td>\n",
              "      <td>...</td>\n",
              "      <td>...</td>\n",
              "      <td>...</td>\n",
              "      <td>...</td>\n",
              "      <td>...</td>\n",
              "      <td>...</td>\n",
              "      <td>...</td>\n",
              "      <td>...</td>\n",
              "      <td>...</td>\n",
              "      <td>...</td>\n",
              "      <td>...</td>\n",
              "      <td>...</td>\n",
              "      <td>...</td>\n",
              "      <td>...</td>\n",
              "      <td>...</td>\n",
              "      <td>...</td>\n",
              "    </tr>\n",
              "    <tr>\n",
              "      <th>283</th>\n",
              "      <td>1</td>\n",
              "      <td>5</td>\n",
              "      <td>Laptop</td>\n",
              "      <td>13</td>\n",
              "      <td>4</td>\n",
              "      <td>3</td>\n",
              "      <td>1</td>\n",
              "      <td>5</td>\n",
              "      <td>2</td>\n",
              "      <td>Headset</td>\n",
              "      <td>1</td>\n",
              "      <td>1</td>\n",
              "      <td>1</td>\n",
              "      <td>0</td>\n",
              "      <td>1</td>\n",
              "      <td>1</td>\n",
              "      <td>0</td>\n",
              "    </tr>\n",
              "    <tr>\n",
              "      <th>284</th>\n",
              "      <td>0</td>\n",
              "      <td>5</td>\n",
              "      <td>Komputer Desktop</td>\n",
              "      <td>23</td>\n",
              "      <td>5</td>\n",
              "      <td>1</td>\n",
              "      <td>2</td>\n",
              "      <td>3</td>\n",
              "      <td>4</td>\n",
              "      <td>built in speaker</td>\n",
              "      <td>1</td>\n",
              "      <td>0</td>\n",
              "      <td>1</td>\n",
              "      <td>0</td>\n",
              "      <td>1</td>\n",
              "      <td>0</td>\n",
              "      <td>0</td>\n",
              "    </tr>\n",
              "    <tr>\n",
              "      <th>285</th>\n",
              "      <td>0</td>\n",
              "      <td>7</td>\n",
              "      <td>Laptop</td>\n",
              "      <td>14</td>\n",
              "      <td>5</td>\n",
              "      <td>2</td>\n",
              "      <td>3</td>\n",
              "      <td>4</td>\n",
              "      <td>1</td>\n",
              "      <td>Earphone</td>\n",
              "      <td>2</td>\n",
              "      <td>1</td>\n",
              "      <td>1</td>\n",
              "      <td>0</td>\n",
              "      <td>1</td>\n",
              "      <td>1</td>\n",
              "      <td>1</td>\n",
              "    </tr>\n",
              "    <tr>\n",
              "      <th>286</th>\n",
              "      <td>1</td>\n",
              "      <td>4</td>\n",
              "      <td>Laptop</td>\n",
              "      <td>13</td>\n",
              "      <td>5</td>\n",
              "      <td>4</td>\n",
              "      <td>3</td>\n",
              "      <td>2</td>\n",
              "      <td>1</td>\n",
              "      <td>Earphone</td>\n",
              "      <td>1,5</td>\n",
              "      <td>1</td>\n",
              "      <td>1</td>\n",
              "      <td>0</td>\n",
              "      <td>1</td>\n",
              "      <td>1</td>\n",
              "      <td>0</td>\n",
              "    </tr>\n",
              "    <tr>\n",
              "      <th>287</th>\n",
              "      <td>1</td>\n",
              "      <td>6</td>\n",
              "      <td>Laptop</td>\n",
              "      <td>15,6</td>\n",
              "      <td>5</td>\n",
              "      <td>1</td>\n",
              "      <td>4</td>\n",
              "      <td>3</td>\n",
              "      <td>2</td>\n",
              "      <td>Earphone</td>\n",
              "      <td>1</td>\n",
              "      <td>0</td>\n",
              "      <td>0</td>\n",
              "      <td>0</td>\n",
              "      <td>0</td>\n",
              "      <td>0</td>\n",
              "      <td>0</td>\n",
              "    </tr>\n",
              "  </tbody>\n",
              "</table>\n",
              "<p>288 rows × 17 columns</p>\n",
              "</div>"
            ],
            "text/plain": [
              "     jenis_kelamin avg_usage  ... is_sakit_kepala is_pegal_jari\n",
              "0                0       5,5  ...               0             0\n",
              "1                0         5  ...               1             0\n",
              "2                0         9  ...               1             0\n",
              "3                1         5  ...               0             0\n",
              "4                0         2  ...               0             0\n",
              "..             ...       ...  ...             ...           ...\n",
              "283              1         5  ...               1             0\n",
              "284              0         5  ...               0             0\n",
              "285              0         7  ...               1             1\n",
              "286              1         4  ...               1             0\n",
              "287              1         6  ...               0             0\n",
              "\n",
              "[288 rows x 17 columns]"
            ]
          },
          "metadata": {},
          "execution_count": 6
        }
      ]
    },
    {
      "cell_type": "markdown",
      "source": [
        "##Reduksi Data"
      ],
      "metadata": {
        "id": "pXS6JoT_0998"
      }
    },
    {
      "cell_type": "markdown",
      "source": [
        "###Drop Unused Column "
      ],
      "metadata": {
        "id": "j8jILYwp0Jic"
      }
    },
    {
      "cell_type": "code",
      "metadata": {
        "colab": {
          "base_uri": "https://localhost:8080/",
          "height": 424
        },
        "id": "lwWRE05CB5VY",
        "outputId": "9f15ee24-b35f-467f-dc1f-440282ed101b"
      },
      "source": [
        "new_data = zoom_duplicated_free.drop(['screen','with_desk','with_sofa','on_floor','lay_low','mobile','audio_device','limit'], axis=1)\n",
        "new_data"
      ],
      "execution_count": null,
      "outputs": [
        {
          "output_type": "execute_result",
          "data": {
            "text/html": [
              "<div>\n",
              "<style scoped>\n",
              "    .dataframe tbody tr th:only-of-type {\n",
              "        vertical-align: middle;\n",
              "    }\n",
              "\n",
              "    .dataframe tbody tr th {\n",
              "        vertical-align: top;\n",
              "    }\n",
              "\n",
              "    .dataframe thead th {\n",
              "        text-align: right;\n",
              "    }\n",
              "</style>\n",
              "<table border=\"1\" class=\"dataframe\">\n",
              "  <thead>\n",
              "    <tr style=\"text-align: right;\">\n",
              "      <th></th>\n",
              "      <th>jenis_kelamin</th>\n",
              "      <th>avg_usage</th>\n",
              "      <th>device</th>\n",
              "      <th>is_mata_lelah</th>\n",
              "      <th>is_pegal_pinggang</th>\n",
              "      <th>is_kesemutan</th>\n",
              "      <th>is_pegal_leher</th>\n",
              "      <th>is_sakit_kepala</th>\n",
              "      <th>is_pegal_jari</th>\n",
              "    </tr>\n",
              "  </thead>\n",
              "  <tbody>\n",
              "    <tr>\n",
              "      <th>0</th>\n",
              "      <td>0</td>\n",
              "      <td>5,5</td>\n",
              "      <td>Handphone</td>\n",
              "      <td>1</td>\n",
              "      <td>1</td>\n",
              "      <td>1</td>\n",
              "      <td>0</td>\n",
              "      <td>0</td>\n",
              "      <td>0</td>\n",
              "    </tr>\n",
              "    <tr>\n",
              "      <th>1</th>\n",
              "      <td>0</td>\n",
              "      <td>5</td>\n",
              "      <td>Handphone</td>\n",
              "      <td>1</td>\n",
              "      <td>0</td>\n",
              "      <td>1</td>\n",
              "      <td>1</td>\n",
              "      <td>1</td>\n",
              "      <td>0</td>\n",
              "    </tr>\n",
              "    <tr>\n",
              "      <th>2</th>\n",
              "      <td>0</td>\n",
              "      <td>9</td>\n",
              "      <td>Laptop</td>\n",
              "      <td>1</td>\n",
              "      <td>1</td>\n",
              "      <td>0</td>\n",
              "      <td>1</td>\n",
              "      <td>1</td>\n",
              "      <td>0</td>\n",
              "    </tr>\n",
              "    <tr>\n",
              "      <th>3</th>\n",
              "      <td>1</td>\n",
              "      <td>5</td>\n",
              "      <td>Laptop</td>\n",
              "      <td>0</td>\n",
              "      <td>1</td>\n",
              "      <td>0</td>\n",
              "      <td>0</td>\n",
              "      <td>0</td>\n",
              "      <td>0</td>\n",
              "    </tr>\n",
              "    <tr>\n",
              "      <th>4</th>\n",
              "      <td>0</td>\n",
              "      <td>2</td>\n",
              "      <td>Laptop</td>\n",
              "      <td>0</td>\n",
              "      <td>0</td>\n",
              "      <td>1</td>\n",
              "      <td>0</td>\n",
              "      <td>0</td>\n",
              "      <td>0</td>\n",
              "    </tr>\n",
              "    <tr>\n",
              "      <th>...</th>\n",
              "      <td>...</td>\n",
              "      <td>...</td>\n",
              "      <td>...</td>\n",
              "      <td>...</td>\n",
              "      <td>...</td>\n",
              "      <td>...</td>\n",
              "      <td>...</td>\n",
              "      <td>...</td>\n",
              "      <td>...</td>\n",
              "    </tr>\n",
              "    <tr>\n",
              "      <th>283</th>\n",
              "      <td>1</td>\n",
              "      <td>5</td>\n",
              "      <td>Laptop</td>\n",
              "      <td>1</td>\n",
              "      <td>1</td>\n",
              "      <td>0</td>\n",
              "      <td>1</td>\n",
              "      <td>1</td>\n",
              "      <td>0</td>\n",
              "    </tr>\n",
              "    <tr>\n",
              "      <th>284</th>\n",
              "      <td>0</td>\n",
              "      <td>5</td>\n",
              "      <td>Komputer Desktop</td>\n",
              "      <td>0</td>\n",
              "      <td>1</td>\n",
              "      <td>0</td>\n",
              "      <td>1</td>\n",
              "      <td>0</td>\n",
              "      <td>0</td>\n",
              "    </tr>\n",
              "    <tr>\n",
              "      <th>285</th>\n",
              "      <td>0</td>\n",
              "      <td>7</td>\n",
              "      <td>Laptop</td>\n",
              "      <td>1</td>\n",
              "      <td>1</td>\n",
              "      <td>0</td>\n",
              "      <td>1</td>\n",
              "      <td>1</td>\n",
              "      <td>1</td>\n",
              "    </tr>\n",
              "    <tr>\n",
              "      <th>286</th>\n",
              "      <td>1</td>\n",
              "      <td>4</td>\n",
              "      <td>Laptop</td>\n",
              "      <td>1</td>\n",
              "      <td>1</td>\n",
              "      <td>0</td>\n",
              "      <td>1</td>\n",
              "      <td>1</td>\n",
              "      <td>0</td>\n",
              "    </tr>\n",
              "    <tr>\n",
              "      <th>287</th>\n",
              "      <td>1</td>\n",
              "      <td>6</td>\n",
              "      <td>Laptop</td>\n",
              "      <td>0</td>\n",
              "      <td>0</td>\n",
              "      <td>0</td>\n",
              "      <td>0</td>\n",
              "      <td>0</td>\n",
              "      <td>0</td>\n",
              "    </tr>\n",
              "  </tbody>\n",
              "</table>\n",
              "<p>288 rows × 9 columns</p>\n",
              "</div>"
            ],
            "text/plain": [
              "     jenis_kelamin avg_usage  ... is_sakit_kepala  is_pegal_jari\n",
              "0                0       5,5  ...               0              0\n",
              "1                0         5  ...               1              0\n",
              "2                0         9  ...               1              0\n",
              "3                1         5  ...               0              0\n",
              "4                0         2  ...               0              0\n",
              "..             ...       ...  ...             ...            ...\n",
              "283              1         5  ...               1              0\n",
              "284              0         5  ...               0              0\n",
              "285              0         7  ...               1              1\n",
              "286              1         4  ...               1              0\n",
              "287              1         6  ...               0              0\n",
              "\n",
              "[288 rows x 9 columns]"
            ]
          },
          "metadata": {},
          "execution_count": 7
        }
      ]
    },
    {
      "cell_type": "markdown",
      "source": [
        "###Convert column 'device' to int64"
      ],
      "metadata": {
        "id": "Qnq887sr0u8t"
      }
    },
    {
      "cell_type": "code",
      "metadata": {
        "id": "j7Ls3li6Efwo"
      },
      "source": [
        "new_data['avg_usage'] = pd.to_numeric(new_data['avg_usage'],errors='coerce')"
      ],
      "execution_count": null,
      "outputs": []
    },
    {
      "cell_type": "code",
      "metadata": {
        "colab": {
          "base_uri": "https://localhost:8080/"
        },
        "id": "oYP1FOfZ5gz0",
        "outputId": "e8623a9d-d71b-460a-9ce2-85333d42c31b"
      },
      "source": [
        "code = 1\n",
        "for i in new_data.loc[:,'device'].unique():\n",
        "  new_data['device'].loc[new_data['device']==i] = code\n",
        "  code += 1\n",
        "new_data['device'] = new_data['device'].astype('int64')"
      ],
      "execution_count": null,
      "outputs": [
        {
          "output_type": "stream",
          "name": "stderr",
          "text": [
            "/usr/local/lib/python3.7/dist-packages/pandas/core/indexing.py:670: SettingWithCopyWarning: \n",
            "A value is trying to be set on a copy of a slice from a DataFrame\n",
            "\n",
            "See the caveats in the documentation: https://pandas.pydata.org/pandas-docs/stable/user_guide/indexing.html#returning-a-view-versus-a-copy\n",
            "  iloc._setitem_with_indexer(indexer, value)\n"
          ]
        }
      ]
    },
    {
      "cell_type": "code",
      "metadata": {
        "colab": {
          "base_uri": "https://localhost:8080/",
          "height": 424
        },
        "id": "KU7VX7mS6Aer",
        "outputId": "e7912c9a-6820-4b4c-ec0b-a39c49a295ad"
      },
      "source": [
        "new_data"
      ],
      "execution_count": null,
      "outputs": [
        {
          "output_type": "execute_result",
          "data": {
            "text/html": [
              "<div>\n",
              "<style scoped>\n",
              "    .dataframe tbody tr th:only-of-type {\n",
              "        vertical-align: middle;\n",
              "    }\n",
              "\n",
              "    .dataframe tbody tr th {\n",
              "        vertical-align: top;\n",
              "    }\n",
              "\n",
              "    .dataframe thead th {\n",
              "        text-align: right;\n",
              "    }\n",
              "</style>\n",
              "<table border=\"1\" class=\"dataframe\">\n",
              "  <thead>\n",
              "    <tr style=\"text-align: right;\">\n",
              "      <th></th>\n",
              "      <th>jenis_kelamin</th>\n",
              "      <th>avg_usage</th>\n",
              "      <th>device</th>\n",
              "      <th>is_mata_lelah</th>\n",
              "      <th>is_pegal_pinggang</th>\n",
              "      <th>is_kesemutan</th>\n",
              "      <th>is_pegal_leher</th>\n",
              "      <th>is_sakit_kepala</th>\n",
              "      <th>is_pegal_jari</th>\n",
              "    </tr>\n",
              "  </thead>\n",
              "  <tbody>\n",
              "    <tr>\n",
              "      <th>0</th>\n",
              "      <td>0</td>\n",
              "      <td>NaN</td>\n",
              "      <td>1</td>\n",
              "      <td>1</td>\n",
              "      <td>1</td>\n",
              "      <td>1</td>\n",
              "      <td>0</td>\n",
              "      <td>0</td>\n",
              "      <td>0</td>\n",
              "    </tr>\n",
              "    <tr>\n",
              "      <th>1</th>\n",
              "      <td>0</td>\n",
              "      <td>5.0</td>\n",
              "      <td>1</td>\n",
              "      <td>1</td>\n",
              "      <td>0</td>\n",
              "      <td>1</td>\n",
              "      <td>1</td>\n",
              "      <td>1</td>\n",
              "      <td>0</td>\n",
              "    </tr>\n",
              "    <tr>\n",
              "      <th>2</th>\n",
              "      <td>0</td>\n",
              "      <td>9.0</td>\n",
              "      <td>2</td>\n",
              "      <td>1</td>\n",
              "      <td>1</td>\n",
              "      <td>0</td>\n",
              "      <td>1</td>\n",
              "      <td>1</td>\n",
              "      <td>0</td>\n",
              "    </tr>\n",
              "    <tr>\n",
              "      <th>3</th>\n",
              "      <td>1</td>\n",
              "      <td>5.0</td>\n",
              "      <td>2</td>\n",
              "      <td>0</td>\n",
              "      <td>1</td>\n",
              "      <td>0</td>\n",
              "      <td>0</td>\n",
              "      <td>0</td>\n",
              "      <td>0</td>\n",
              "    </tr>\n",
              "    <tr>\n",
              "      <th>4</th>\n",
              "      <td>0</td>\n",
              "      <td>2.0</td>\n",
              "      <td>2</td>\n",
              "      <td>0</td>\n",
              "      <td>0</td>\n",
              "      <td>1</td>\n",
              "      <td>0</td>\n",
              "      <td>0</td>\n",
              "      <td>0</td>\n",
              "    </tr>\n",
              "    <tr>\n",
              "      <th>...</th>\n",
              "      <td>...</td>\n",
              "      <td>...</td>\n",
              "      <td>...</td>\n",
              "      <td>...</td>\n",
              "      <td>...</td>\n",
              "      <td>...</td>\n",
              "      <td>...</td>\n",
              "      <td>...</td>\n",
              "      <td>...</td>\n",
              "    </tr>\n",
              "    <tr>\n",
              "      <th>283</th>\n",
              "      <td>1</td>\n",
              "      <td>5.0</td>\n",
              "      <td>2</td>\n",
              "      <td>1</td>\n",
              "      <td>1</td>\n",
              "      <td>0</td>\n",
              "      <td>1</td>\n",
              "      <td>1</td>\n",
              "      <td>0</td>\n",
              "    </tr>\n",
              "    <tr>\n",
              "      <th>284</th>\n",
              "      <td>0</td>\n",
              "      <td>5.0</td>\n",
              "      <td>3</td>\n",
              "      <td>0</td>\n",
              "      <td>1</td>\n",
              "      <td>0</td>\n",
              "      <td>1</td>\n",
              "      <td>0</td>\n",
              "      <td>0</td>\n",
              "    </tr>\n",
              "    <tr>\n",
              "      <th>285</th>\n",
              "      <td>0</td>\n",
              "      <td>7.0</td>\n",
              "      <td>2</td>\n",
              "      <td>1</td>\n",
              "      <td>1</td>\n",
              "      <td>0</td>\n",
              "      <td>1</td>\n",
              "      <td>1</td>\n",
              "      <td>1</td>\n",
              "    </tr>\n",
              "    <tr>\n",
              "      <th>286</th>\n",
              "      <td>1</td>\n",
              "      <td>4.0</td>\n",
              "      <td>2</td>\n",
              "      <td>1</td>\n",
              "      <td>1</td>\n",
              "      <td>0</td>\n",
              "      <td>1</td>\n",
              "      <td>1</td>\n",
              "      <td>0</td>\n",
              "    </tr>\n",
              "    <tr>\n",
              "      <th>287</th>\n",
              "      <td>1</td>\n",
              "      <td>6.0</td>\n",
              "      <td>2</td>\n",
              "      <td>0</td>\n",
              "      <td>0</td>\n",
              "      <td>0</td>\n",
              "      <td>0</td>\n",
              "      <td>0</td>\n",
              "      <td>0</td>\n",
              "    </tr>\n",
              "  </tbody>\n",
              "</table>\n",
              "<p>288 rows × 9 columns</p>\n",
              "</div>"
            ],
            "text/plain": [
              "     jenis_kelamin  avg_usage  ...  is_sakit_kepala  is_pegal_jari\n",
              "0                0        NaN  ...                0              0\n",
              "1                0        5.0  ...                1              0\n",
              "2                0        9.0  ...                1              0\n",
              "3                1        5.0  ...                0              0\n",
              "4                0        2.0  ...                0              0\n",
              "..             ...        ...  ...              ...            ...\n",
              "283              1        5.0  ...                1              0\n",
              "284              0        5.0  ...                0              0\n",
              "285              0        7.0  ...                1              1\n",
              "286              1        4.0  ...                1              0\n",
              "287              1        6.0  ...                0              0\n",
              "\n",
              "[288 rows x 9 columns]"
            ]
          },
          "metadata": {},
          "execution_count": 10
        }
      ]
    },
    {
      "cell_type": "code",
      "metadata": {
        "colab": {
          "base_uri": "https://localhost:8080/",
          "height": 424
        },
        "id": "bTUIw1GzLpy9",
        "outputId": "79ff778d-96e2-4b11-a2dc-836125e95dcc"
      },
      "source": [
        "new_data = new_data[['jenis_kelamin','avg_usage','is_mata_lelah','is_pegal_pinggang','is_kesemutan','is_pegal_leher','is_sakit_kepala','is_pegal_jari','device']]\n",
        "new_data"
      ],
      "execution_count": null,
      "outputs": [
        {
          "output_type": "execute_result",
          "data": {
            "text/html": [
              "<div>\n",
              "<style scoped>\n",
              "    .dataframe tbody tr th:only-of-type {\n",
              "        vertical-align: middle;\n",
              "    }\n",
              "\n",
              "    .dataframe tbody tr th {\n",
              "        vertical-align: top;\n",
              "    }\n",
              "\n",
              "    .dataframe thead th {\n",
              "        text-align: right;\n",
              "    }\n",
              "</style>\n",
              "<table border=\"1\" class=\"dataframe\">\n",
              "  <thead>\n",
              "    <tr style=\"text-align: right;\">\n",
              "      <th></th>\n",
              "      <th>jenis_kelamin</th>\n",
              "      <th>avg_usage</th>\n",
              "      <th>is_mata_lelah</th>\n",
              "      <th>is_pegal_pinggang</th>\n",
              "      <th>is_kesemutan</th>\n",
              "      <th>is_pegal_leher</th>\n",
              "      <th>is_sakit_kepala</th>\n",
              "      <th>is_pegal_jari</th>\n",
              "      <th>device</th>\n",
              "    </tr>\n",
              "  </thead>\n",
              "  <tbody>\n",
              "    <tr>\n",
              "      <th>0</th>\n",
              "      <td>0</td>\n",
              "      <td>NaN</td>\n",
              "      <td>1</td>\n",
              "      <td>1</td>\n",
              "      <td>1</td>\n",
              "      <td>0</td>\n",
              "      <td>0</td>\n",
              "      <td>0</td>\n",
              "      <td>1</td>\n",
              "    </tr>\n",
              "    <tr>\n",
              "      <th>1</th>\n",
              "      <td>0</td>\n",
              "      <td>5.0</td>\n",
              "      <td>1</td>\n",
              "      <td>0</td>\n",
              "      <td>1</td>\n",
              "      <td>1</td>\n",
              "      <td>1</td>\n",
              "      <td>0</td>\n",
              "      <td>1</td>\n",
              "    </tr>\n",
              "    <tr>\n",
              "      <th>2</th>\n",
              "      <td>0</td>\n",
              "      <td>9.0</td>\n",
              "      <td>1</td>\n",
              "      <td>1</td>\n",
              "      <td>0</td>\n",
              "      <td>1</td>\n",
              "      <td>1</td>\n",
              "      <td>0</td>\n",
              "      <td>2</td>\n",
              "    </tr>\n",
              "    <tr>\n",
              "      <th>3</th>\n",
              "      <td>1</td>\n",
              "      <td>5.0</td>\n",
              "      <td>0</td>\n",
              "      <td>1</td>\n",
              "      <td>0</td>\n",
              "      <td>0</td>\n",
              "      <td>0</td>\n",
              "      <td>0</td>\n",
              "      <td>2</td>\n",
              "    </tr>\n",
              "    <tr>\n",
              "      <th>4</th>\n",
              "      <td>0</td>\n",
              "      <td>2.0</td>\n",
              "      <td>0</td>\n",
              "      <td>0</td>\n",
              "      <td>1</td>\n",
              "      <td>0</td>\n",
              "      <td>0</td>\n",
              "      <td>0</td>\n",
              "      <td>2</td>\n",
              "    </tr>\n",
              "    <tr>\n",
              "      <th>...</th>\n",
              "      <td>...</td>\n",
              "      <td>...</td>\n",
              "      <td>...</td>\n",
              "      <td>...</td>\n",
              "      <td>...</td>\n",
              "      <td>...</td>\n",
              "      <td>...</td>\n",
              "      <td>...</td>\n",
              "      <td>...</td>\n",
              "    </tr>\n",
              "    <tr>\n",
              "      <th>283</th>\n",
              "      <td>1</td>\n",
              "      <td>5.0</td>\n",
              "      <td>1</td>\n",
              "      <td>1</td>\n",
              "      <td>0</td>\n",
              "      <td>1</td>\n",
              "      <td>1</td>\n",
              "      <td>0</td>\n",
              "      <td>2</td>\n",
              "    </tr>\n",
              "    <tr>\n",
              "      <th>284</th>\n",
              "      <td>0</td>\n",
              "      <td>5.0</td>\n",
              "      <td>0</td>\n",
              "      <td>1</td>\n",
              "      <td>0</td>\n",
              "      <td>1</td>\n",
              "      <td>0</td>\n",
              "      <td>0</td>\n",
              "      <td>3</td>\n",
              "    </tr>\n",
              "    <tr>\n",
              "      <th>285</th>\n",
              "      <td>0</td>\n",
              "      <td>7.0</td>\n",
              "      <td>1</td>\n",
              "      <td>1</td>\n",
              "      <td>0</td>\n",
              "      <td>1</td>\n",
              "      <td>1</td>\n",
              "      <td>1</td>\n",
              "      <td>2</td>\n",
              "    </tr>\n",
              "    <tr>\n",
              "      <th>286</th>\n",
              "      <td>1</td>\n",
              "      <td>4.0</td>\n",
              "      <td>1</td>\n",
              "      <td>1</td>\n",
              "      <td>0</td>\n",
              "      <td>1</td>\n",
              "      <td>1</td>\n",
              "      <td>0</td>\n",
              "      <td>2</td>\n",
              "    </tr>\n",
              "    <tr>\n",
              "      <th>287</th>\n",
              "      <td>1</td>\n",
              "      <td>6.0</td>\n",
              "      <td>0</td>\n",
              "      <td>0</td>\n",
              "      <td>0</td>\n",
              "      <td>0</td>\n",
              "      <td>0</td>\n",
              "      <td>0</td>\n",
              "      <td>2</td>\n",
              "    </tr>\n",
              "  </tbody>\n",
              "</table>\n",
              "<p>288 rows × 9 columns</p>\n",
              "</div>"
            ],
            "text/plain": [
              "     jenis_kelamin  avg_usage  ...  is_pegal_jari  device\n",
              "0                0        NaN  ...              0       1\n",
              "1                0        5.0  ...              0       1\n",
              "2                0        9.0  ...              0       2\n",
              "3                1        5.0  ...              0       2\n",
              "4                0        2.0  ...              0       2\n",
              "..             ...        ...  ...            ...     ...\n",
              "283              1        5.0  ...              0       2\n",
              "284              0        5.0  ...              0       3\n",
              "285              0        7.0  ...              1       2\n",
              "286              1        4.0  ...              0       2\n",
              "287              1        6.0  ...              0       2\n",
              "\n",
              "[288 rows x 9 columns]"
            ]
          },
          "metadata": {},
          "execution_count": 11
        }
      ]
    },
    {
      "cell_type": "code",
      "metadata": {
        "colab": {
          "base_uri": "https://localhost:8080/",
          "height": 424
        },
        "id": "k4505FPi7Mvr",
        "outputId": "4300570e-1d46-48de-c74e-e9b63cea6697"
      },
      "source": [
        "from sklearn.preprocessing import StandardScaler\n",
        "\n",
        "zoom_standarded = StandardScaler().fit_transform(new_data.iloc[:,:8])\n",
        "zoom_standarded = pd.DataFrame(zoom_standarded)\n",
        "zoom_standarded = pd.concat([zoom_standarded, new_data['jenis_kelamin']], ignore_index=True, axis=1)\n",
        "zoom_standarded.columns = new_data.columns\n",
        "zoom_standarded"
      ],
      "execution_count": null,
      "outputs": [
        {
          "output_type": "execute_result",
          "data": {
            "text/html": [
              "<div>\n",
              "<style scoped>\n",
              "    .dataframe tbody tr th:only-of-type {\n",
              "        vertical-align: middle;\n",
              "    }\n",
              "\n",
              "    .dataframe tbody tr th {\n",
              "        vertical-align: top;\n",
              "    }\n",
              "\n",
              "    .dataframe thead th {\n",
              "        text-align: right;\n",
              "    }\n",
              "</style>\n",
              "<table border=\"1\" class=\"dataframe\">\n",
              "  <thead>\n",
              "    <tr style=\"text-align: right;\">\n",
              "      <th></th>\n",
              "      <th>jenis_kelamin</th>\n",
              "      <th>avg_usage</th>\n",
              "      <th>is_mata_lelah</th>\n",
              "      <th>is_pegal_pinggang</th>\n",
              "      <th>is_kesemutan</th>\n",
              "      <th>is_pegal_leher</th>\n",
              "      <th>is_sakit_kepala</th>\n",
              "      <th>is_pegal_jari</th>\n",
              "      <th>device</th>\n",
              "    </tr>\n",
              "  </thead>\n",
              "  <tbody>\n",
              "    <tr>\n",
              "      <th>0</th>\n",
              "      <td>-0.502169</td>\n",
              "      <td>NaN</td>\n",
              "      <td>0.491304</td>\n",
              "      <td>0.572004</td>\n",
              "      <td>0.932808</td>\n",
              "      <td>-1.459601</td>\n",
              "      <td>-0.979379</td>\n",
              "      <td>-0.485851</td>\n",
              "      <td>0</td>\n",
              "    </tr>\n",
              "    <tr>\n",
              "      <th>1</th>\n",
              "      <td>-0.502169</td>\n",
              "      <td>-0.521509</td>\n",
              "      <td>0.491304</td>\n",
              "      <td>-1.748239</td>\n",
              "      <td>0.932808</td>\n",
              "      <td>0.685119</td>\n",
              "      <td>1.021055</td>\n",
              "      <td>-0.485851</td>\n",
              "      <td>0</td>\n",
              "    </tr>\n",
              "    <tr>\n",
              "      <th>2</th>\n",
              "      <td>-0.502169</td>\n",
              "      <td>1.271308</td>\n",
              "      <td>0.491304</td>\n",
              "      <td>0.572004</td>\n",
              "      <td>-1.072033</td>\n",
              "      <td>0.685119</td>\n",
              "      <td>1.021055</td>\n",
              "      <td>-0.485851</td>\n",
              "      <td>0</td>\n",
              "    </tr>\n",
              "    <tr>\n",
              "      <th>3</th>\n",
              "      <td>1.991361</td>\n",
              "      <td>-0.521509</td>\n",
              "      <td>-2.035401</td>\n",
              "      <td>0.572004</td>\n",
              "      <td>-1.072033</td>\n",
              "      <td>-1.459601</td>\n",
              "      <td>-0.979379</td>\n",
              "      <td>-0.485851</td>\n",
              "      <td>1</td>\n",
              "    </tr>\n",
              "    <tr>\n",
              "      <th>4</th>\n",
              "      <td>-0.502169</td>\n",
              "      <td>-1.866121</td>\n",
              "      <td>-2.035401</td>\n",
              "      <td>-1.748239</td>\n",
              "      <td>0.932808</td>\n",
              "      <td>-1.459601</td>\n",
              "      <td>-0.979379</td>\n",
              "      <td>-0.485851</td>\n",
              "      <td>0</td>\n",
              "    </tr>\n",
              "    <tr>\n",
              "      <th>...</th>\n",
              "      <td>...</td>\n",
              "      <td>...</td>\n",
              "      <td>...</td>\n",
              "      <td>...</td>\n",
              "      <td>...</td>\n",
              "      <td>...</td>\n",
              "      <td>...</td>\n",
              "      <td>...</td>\n",
              "      <td>...</td>\n",
              "    </tr>\n",
              "    <tr>\n",
              "      <th>283</th>\n",
              "      <td>1.991361</td>\n",
              "      <td>-0.521509</td>\n",
              "      <td>0.491304</td>\n",
              "      <td>0.572004</td>\n",
              "      <td>-1.072033</td>\n",
              "      <td>0.685119</td>\n",
              "      <td>1.021055</td>\n",
              "      <td>-0.485851</td>\n",
              "      <td>1</td>\n",
              "    </tr>\n",
              "    <tr>\n",
              "      <th>284</th>\n",
              "      <td>-0.502169</td>\n",
              "      <td>-0.521509</td>\n",
              "      <td>-2.035401</td>\n",
              "      <td>0.572004</td>\n",
              "      <td>-1.072033</td>\n",
              "      <td>0.685119</td>\n",
              "      <td>-0.979379</td>\n",
              "      <td>-0.485851</td>\n",
              "      <td>0</td>\n",
              "    </tr>\n",
              "    <tr>\n",
              "      <th>285</th>\n",
              "      <td>-0.502169</td>\n",
              "      <td>0.374900</td>\n",
              "      <td>0.491304</td>\n",
              "      <td>0.572004</td>\n",
              "      <td>-1.072033</td>\n",
              "      <td>0.685119</td>\n",
              "      <td>1.021055</td>\n",
              "      <td>2.058243</td>\n",
              "      <td>0</td>\n",
              "    </tr>\n",
              "    <tr>\n",
              "      <th>286</th>\n",
              "      <td>1.991361</td>\n",
              "      <td>-0.969713</td>\n",
              "      <td>0.491304</td>\n",
              "      <td>0.572004</td>\n",
              "      <td>-1.072033</td>\n",
              "      <td>0.685119</td>\n",
              "      <td>1.021055</td>\n",
              "      <td>-0.485851</td>\n",
              "      <td>1</td>\n",
              "    </tr>\n",
              "    <tr>\n",
              "      <th>287</th>\n",
              "      <td>1.991361</td>\n",
              "      <td>-0.073304</td>\n",
              "      <td>-2.035401</td>\n",
              "      <td>-1.748239</td>\n",
              "      <td>-1.072033</td>\n",
              "      <td>-1.459601</td>\n",
              "      <td>-0.979379</td>\n",
              "      <td>-0.485851</td>\n",
              "      <td>1</td>\n",
              "    </tr>\n",
              "  </tbody>\n",
              "</table>\n",
              "<p>288 rows × 9 columns</p>\n",
              "</div>"
            ],
            "text/plain": [
              "     jenis_kelamin  avg_usage  ...  is_pegal_jari  device\n",
              "0        -0.502169        NaN  ...      -0.485851       0\n",
              "1        -0.502169  -0.521509  ...      -0.485851       0\n",
              "2        -0.502169   1.271308  ...      -0.485851       0\n",
              "3         1.991361  -0.521509  ...      -0.485851       1\n",
              "4        -0.502169  -1.866121  ...      -0.485851       0\n",
              "..             ...        ...  ...            ...     ...\n",
              "283       1.991361  -0.521509  ...      -0.485851       1\n",
              "284      -0.502169  -0.521509  ...      -0.485851       0\n",
              "285      -0.502169   0.374900  ...       2.058243       0\n",
              "286       1.991361  -0.969713  ...      -0.485851       1\n",
              "287       1.991361  -0.073304  ...      -0.485851       1\n",
              "\n",
              "[288 rows x 9 columns]"
            ]
          },
          "metadata": {},
          "execution_count": 12
        }
      ]
    },
    {
      "cell_type": "code",
      "metadata": {
        "colab": {
          "base_uri": "https://localhost:8080/",
          "height": 424
        },
        "id": "HLyhWyCsI2Iv",
        "outputId": "290314df-86f4-4cd9-93f3-ed4db5f842c1"
      },
      "source": [
        "x = zoom_standarded.dropna(axis=0, how='any')\n",
        "x"
      ],
      "execution_count": null,
      "outputs": [
        {
          "output_type": "execute_result",
          "data": {
            "text/html": [
              "<div>\n",
              "<style scoped>\n",
              "    .dataframe tbody tr th:only-of-type {\n",
              "        vertical-align: middle;\n",
              "    }\n",
              "\n",
              "    .dataframe tbody tr th {\n",
              "        vertical-align: top;\n",
              "    }\n",
              "\n",
              "    .dataframe thead th {\n",
              "        text-align: right;\n",
              "    }\n",
              "</style>\n",
              "<table border=\"1\" class=\"dataframe\">\n",
              "  <thead>\n",
              "    <tr style=\"text-align: right;\">\n",
              "      <th></th>\n",
              "      <th>jenis_kelamin</th>\n",
              "      <th>avg_usage</th>\n",
              "      <th>is_mata_lelah</th>\n",
              "      <th>is_pegal_pinggang</th>\n",
              "      <th>is_kesemutan</th>\n",
              "      <th>is_pegal_leher</th>\n",
              "      <th>is_sakit_kepala</th>\n",
              "      <th>is_pegal_jari</th>\n",
              "      <th>device</th>\n",
              "    </tr>\n",
              "  </thead>\n",
              "  <tbody>\n",
              "    <tr>\n",
              "      <th>1</th>\n",
              "      <td>-0.502169</td>\n",
              "      <td>-0.521509</td>\n",
              "      <td>0.491304</td>\n",
              "      <td>-1.748239</td>\n",
              "      <td>0.932808</td>\n",
              "      <td>0.685119</td>\n",
              "      <td>1.021055</td>\n",
              "      <td>-0.485851</td>\n",
              "      <td>0</td>\n",
              "    </tr>\n",
              "    <tr>\n",
              "      <th>2</th>\n",
              "      <td>-0.502169</td>\n",
              "      <td>1.271308</td>\n",
              "      <td>0.491304</td>\n",
              "      <td>0.572004</td>\n",
              "      <td>-1.072033</td>\n",
              "      <td>0.685119</td>\n",
              "      <td>1.021055</td>\n",
              "      <td>-0.485851</td>\n",
              "      <td>0</td>\n",
              "    </tr>\n",
              "    <tr>\n",
              "      <th>3</th>\n",
              "      <td>1.991361</td>\n",
              "      <td>-0.521509</td>\n",
              "      <td>-2.035401</td>\n",
              "      <td>0.572004</td>\n",
              "      <td>-1.072033</td>\n",
              "      <td>-1.459601</td>\n",
              "      <td>-0.979379</td>\n",
              "      <td>-0.485851</td>\n",
              "      <td>1</td>\n",
              "    </tr>\n",
              "    <tr>\n",
              "      <th>4</th>\n",
              "      <td>-0.502169</td>\n",
              "      <td>-1.866121</td>\n",
              "      <td>-2.035401</td>\n",
              "      <td>-1.748239</td>\n",
              "      <td>0.932808</td>\n",
              "      <td>-1.459601</td>\n",
              "      <td>-0.979379</td>\n",
              "      <td>-0.485851</td>\n",
              "      <td>0</td>\n",
              "    </tr>\n",
              "    <tr>\n",
              "      <th>5</th>\n",
              "      <td>-0.502169</td>\n",
              "      <td>-0.521509</td>\n",
              "      <td>0.491304</td>\n",
              "      <td>0.572004</td>\n",
              "      <td>0.932808</td>\n",
              "      <td>0.685119</td>\n",
              "      <td>1.021055</td>\n",
              "      <td>2.058243</td>\n",
              "      <td>0</td>\n",
              "    </tr>\n",
              "    <tr>\n",
              "      <th>...</th>\n",
              "      <td>...</td>\n",
              "      <td>...</td>\n",
              "      <td>...</td>\n",
              "      <td>...</td>\n",
              "      <td>...</td>\n",
              "      <td>...</td>\n",
              "      <td>...</td>\n",
              "      <td>...</td>\n",
              "      <td>...</td>\n",
              "    </tr>\n",
              "    <tr>\n",
              "      <th>283</th>\n",
              "      <td>1.991361</td>\n",
              "      <td>-0.521509</td>\n",
              "      <td>0.491304</td>\n",
              "      <td>0.572004</td>\n",
              "      <td>-1.072033</td>\n",
              "      <td>0.685119</td>\n",
              "      <td>1.021055</td>\n",
              "      <td>-0.485851</td>\n",
              "      <td>1</td>\n",
              "    </tr>\n",
              "    <tr>\n",
              "      <th>284</th>\n",
              "      <td>-0.502169</td>\n",
              "      <td>-0.521509</td>\n",
              "      <td>-2.035401</td>\n",
              "      <td>0.572004</td>\n",
              "      <td>-1.072033</td>\n",
              "      <td>0.685119</td>\n",
              "      <td>-0.979379</td>\n",
              "      <td>-0.485851</td>\n",
              "      <td>0</td>\n",
              "    </tr>\n",
              "    <tr>\n",
              "      <th>285</th>\n",
              "      <td>-0.502169</td>\n",
              "      <td>0.374900</td>\n",
              "      <td>0.491304</td>\n",
              "      <td>0.572004</td>\n",
              "      <td>-1.072033</td>\n",
              "      <td>0.685119</td>\n",
              "      <td>1.021055</td>\n",
              "      <td>2.058243</td>\n",
              "      <td>0</td>\n",
              "    </tr>\n",
              "    <tr>\n",
              "      <th>286</th>\n",
              "      <td>1.991361</td>\n",
              "      <td>-0.969713</td>\n",
              "      <td>0.491304</td>\n",
              "      <td>0.572004</td>\n",
              "      <td>-1.072033</td>\n",
              "      <td>0.685119</td>\n",
              "      <td>1.021055</td>\n",
              "      <td>-0.485851</td>\n",
              "      <td>1</td>\n",
              "    </tr>\n",
              "    <tr>\n",
              "      <th>287</th>\n",
              "      <td>1.991361</td>\n",
              "      <td>-0.073304</td>\n",
              "      <td>-2.035401</td>\n",
              "      <td>-1.748239</td>\n",
              "      <td>-1.072033</td>\n",
              "      <td>-1.459601</td>\n",
              "      <td>-0.979379</td>\n",
              "      <td>-0.485851</td>\n",
              "      <td>1</td>\n",
              "    </tr>\n",
              "  </tbody>\n",
              "</table>\n",
              "<p>214 rows × 9 columns</p>\n",
              "</div>"
            ],
            "text/plain": [
              "     jenis_kelamin  avg_usage  ...  is_pegal_jari  device\n",
              "1        -0.502169  -0.521509  ...      -0.485851       0\n",
              "2        -0.502169   1.271308  ...      -0.485851       0\n",
              "3         1.991361  -0.521509  ...      -0.485851       1\n",
              "4        -0.502169  -1.866121  ...      -0.485851       0\n",
              "5        -0.502169  -0.521509  ...       2.058243       0\n",
              "..             ...        ...  ...            ...     ...\n",
              "283       1.991361  -0.521509  ...      -0.485851       1\n",
              "284      -0.502169  -0.521509  ...      -0.485851       0\n",
              "285      -0.502169   0.374900  ...       2.058243       0\n",
              "286       1.991361  -0.969713  ...      -0.485851       1\n",
              "287       1.991361  -0.073304  ...      -0.485851       1\n",
              "\n",
              "[214 rows x 9 columns]"
            ]
          },
          "metadata": {},
          "execution_count": 13
        }
      ]
    },
    {
      "cell_type": "markdown",
      "source": [
        "###Uji Korelasi Antar Column"
      ],
      "metadata": {
        "id": "-bex_pee1Ikh"
      }
    },
    {
      "cell_type": "code",
      "metadata": {
        "id": "WWbWmrSRHbgd",
        "colab": {
          "base_uri": "https://localhost:8080/",
          "height": 678
        },
        "outputId": "8125fb6b-e0e9-4a26-ff04-d282b9f3e269"
      },
      "source": [
        "import matplotlib.pyplot as plt\n",
        "import seaborn as sns\n",
        "zoom_corr = x.corr()\n",
        "plt.figure(figsize=(12,10))\n",
        "sns.heatmap(zoom_corr, annot=True, cmap=plt.cm.Reds)\n",
        "plt.show()"
      ],
      "execution_count": null,
      "outputs": [
        {
          "output_type": "display_data",
          "data": {
            "image/png": "[encoded data removed]",
            "text/plain": [
              "<Figure size 864x720 with 2 Axes>"
            ]
          },
          "metadata": {
            "needs_background": "light"
          }
        }
      ]
    },
    {
      "cell_type": "markdown",
      "source": [
        "###Detection Outlier Data"
      ],
      "metadata": {
        "id": "b3tqHHQK1QKC"
      }
    },
    {
      "cell_type": "code",
      "metadata": {
        "colab": {
          "base_uri": "https://localhost:8080/"
        },
        "id": "nO_wFrSaJY00",
        "outputId": "f95e25e5-9b96-4b60-dbe1-d7a7834eea4d"
      },
      "source": [
        "device_corr = abs(zoom_corr['device'].drop(['device']))\n",
        "device_corr"
      ],
      "execution_count": null,
      "outputs": [
        {
          "output_type": "execute_result",
          "data": {
            "text/plain": [
              "jenis_kelamin        1.000000\n",
              "avg_usage            0.119833\n",
              "is_mata_lelah        0.107084\n",
              "is_pegal_pinggang    0.006402\n",
              "is_kesemutan         0.063710\n",
              "is_pegal_leher       0.055617\n",
              "is_sakit_kepala      0.096633\n",
              "is_pegal_jari        0.057496\n",
              "Name: device, dtype: float64"
            ]
          },
          "metadata": {},
          "execution_count": 15
        }
      ]
    },
    {
      "cell_type": "code",
      "metadata": {
        "colab": {
          "base_uri": "https://localhost:8080/",
          "height": 528
        },
        "id": "Dm6WhkYPJugz",
        "outputId": "7fb3c2dc-8693-4f5e-b257-d5db55df4c1b"
      },
      "source": [
        "device_corr_index = device_corr[device_corr>0.5].index\n",
        "device_reduction = zoom_standarded[device_corr_index]\n",
        "device_reduction['device'] = new_data['device']\n",
        "device_reduction"
      ],
      "execution_count": null,
      "outputs": [
        {
          "output_type": "stream",
          "name": "stderr",
          "text": [
            "/usr/local/lib/python3.7/dist-packages/ipykernel_launcher.py:3: SettingWithCopyWarning: \n",
            "A value is trying to be set on a copy of a slice from a DataFrame.\n",
            "Try using .loc[row_indexer,col_indexer] = value instead\n",
            "\n",
            "See the caveats in the documentation: https://pandas.pydata.org/pandas-docs/stable/user_guide/indexing.html#returning-a-view-versus-a-copy\n",
            "  This is separate from the ipykernel package so we can avoid doing imports until\n"
          ]
        },
        {
          "output_type": "execute_result",
          "data": {
            "text/html": [
              "<div>\n",
              "<style scoped>\n",
              "    .dataframe tbody tr th:only-of-type {\n",
              "        vertical-align: middle;\n",
              "    }\n",
              "\n",
              "    .dataframe tbody tr th {\n",
              "        vertical-align: top;\n",
              "    }\n",
              "\n",
              "    .dataframe thead th {\n",
              "        text-align: right;\n",
              "    }\n",
              "</style>\n",
              "<table border=\"1\" class=\"dataframe\">\n",
              "  <thead>\n",
              "    <tr style=\"text-align: right;\">\n",
              "      <th></th>\n",
              "      <th>jenis_kelamin</th>\n",
              "      <th>device</th>\n",
              "    </tr>\n",
              "  </thead>\n",
              "  <tbody>\n",
              "    <tr>\n",
              "      <th>0</th>\n",
              "      <td>-0.502169</td>\n",
              "      <td>1</td>\n",
              "    </tr>\n",
              "    <tr>\n",
              "      <th>1</th>\n",
              "      <td>-0.502169</td>\n",
              "      <td>1</td>\n",
              "    </tr>\n",
              "    <tr>\n",
              "      <th>2</th>\n",
              "      <td>-0.502169</td>\n",
              "      <td>2</td>\n",
              "    </tr>\n",
              "    <tr>\n",
              "      <th>3</th>\n",
              "      <td>1.991361</td>\n",
              "      <td>2</td>\n",
              "    </tr>\n",
              "    <tr>\n",
              "      <th>4</th>\n",
              "      <td>-0.502169</td>\n",
              "      <td>2</td>\n",
              "    </tr>\n",
              "    <tr>\n",
              "      <th>...</th>\n",
              "      <td>...</td>\n",
              "      <td>...</td>\n",
              "    </tr>\n",
              "    <tr>\n",
              "      <th>283</th>\n",
              "      <td>1.991361</td>\n",
              "      <td>2</td>\n",
              "    </tr>\n",
              "    <tr>\n",
              "      <th>284</th>\n",
              "      <td>-0.502169</td>\n",
              "      <td>3</td>\n",
              "    </tr>\n",
              "    <tr>\n",
              "      <th>285</th>\n",
              "      <td>-0.502169</td>\n",
              "      <td>2</td>\n",
              "    </tr>\n",
              "    <tr>\n",
              "      <th>286</th>\n",
              "      <td>1.991361</td>\n",
              "      <td>2</td>\n",
              "    </tr>\n",
              "    <tr>\n",
              "      <th>287</th>\n",
              "      <td>1.991361</td>\n",
              "      <td>2</td>\n",
              "    </tr>\n",
              "  </tbody>\n",
              "</table>\n",
              "<p>288 rows × 2 columns</p>\n",
              "</div>"
            ],
            "text/plain": [
              "     jenis_kelamin  device\n",
              "0        -0.502169       1\n",
              "1        -0.502169       1\n",
              "2        -0.502169       2\n",
              "3         1.991361       2\n",
              "4        -0.502169       2\n",
              "..             ...     ...\n",
              "283       1.991361       2\n",
              "284      -0.502169       3\n",
              "285      -0.502169       2\n",
              "286       1.991361       2\n",
              "287       1.991361       2\n",
              "\n",
              "[288 rows x 2 columns]"
            ]
          },
          "metadata": {},
          "execution_count": 16
        }
      ]
    },
    {
      "cell_type": "code",
      "metadata": {
        "colab": {
          "base_uri": "https://localhost:8080/",
          "height": 112
        },
        "id": "g4U_7zlXOvPs",
        "outputId": "713e5c8d-2ce4-4b8e-ee09-5d3a4f2c689d"
      },
      "source": [
        "quantile = device_reduction.quantile([0.25, 0.75])\n",
        "quantile = quantile.drop('device', axis=1)\n",
        "quantile"
      ],
      "execution_count": null,
      "outputs": [
        {
          "output_type": "execute_result",
          "data": {
            "text/html": [
              "<div>\n",
              "<style scoped>\n",
              "    .dataframe tbody tr th:only-of-type {\n",
              "        vertical-align: middle;\n",
              "    }\n",
              "\n",
              "    .dataframe tbody tr th {\n",
              "        vertical-align: top;\n",
              "    }\n",
              "\n",
              "    .dataframe thead th {\n",
              "        text-align: right;\n",
              "    }\n",
              "</style>\n",
              "<table border=\"1\" class=\"dataframe\">\n",
              "  <thead>\n",
              "    <tr style=\"text-align: right;\">\n",
              "      <th></th>\n",
              "      <th>jenis_kelamin</th>\n",
              "    </tr>\n",
              "  </thead>\n",
              "  <tbody>\n",
              "    <tr>\n",
              "      <th>0.25</th>\n",
              "      <td>-0.502169</td>\n",
              "    </tr>\n",
              "    <tr>\n",
              "      <th>0.75</th>\n",
              "      <td>-0.502169</td>\n",
              "    </tr>\n",
              "  </tbody>\n",
              "</table>\n",
              "</div>"
            ],
            "text/plain": [
              "      jenis_kelamin\n",
              "0.25      -0.502169\n",
              "0.75      -0.502169"
            ]
          },
          "metadata": {},
          "execution_count": 17
        }
      ]
    },
    {
      "cell_type": "code",
      "metadata": {
        "colab": {
          "base_uri": "https://localhost:8080/"
        },
        "id": "T09ZAdRtO36i",
        "outputId": "d0f4af36-e109-488c-d3cb-2199185742d7"
      },
      "source": [
        "iqr = quantile.iloc[1]-quantile.iloc[0]\n",
        "iqr"
      ],
      "execution_count": null,
      "outputs": [
        {
          "output_type": "execute_result",
          "data": {
            "text/plain": [
              "jenis_kelamin    0.0\n",
              "dtype: float64"
            ]
          },
          "metadata": {},
          "execution_count": 18
        }
      ]
    },
    {
      "cell_type": "code",
      "metadata": {
        "colab": {
          "base_uri": "https://localhost:8080/",
          "height": 49
        },
        "id": "DN2JWJmjPhab",
        "outputId": "7fae697c-87ab-47b3-cd45-097d65706789"
      },
      "source": [
        "quantile.loc[0.25] = quantile.loc[0.25]-iqr*1.5\n",
        "quantile.loc[0.75] = quantile.loc[0.75]+iqr*1.5\n",
        "\n",
        "lower = device_reduction['jenis_kelamin']<quantile.loc[0.25,'jenis_kelamin']\n",
        "upper = device_reduction['jenis_kelamin']>quantile.loc[0.75,'jenis_kelamin']\n",
        "device_reduction[(lower & upper)]"
      ],
      "execution_count": null,
      "outputs": [
        {
          "output_type": "execute_result",
          "data": {
            "text/html": [
              "<div>\n",
              "<style scoped>\n",
              "    .dataframe tbody tr th:only-of-type {\n",
              "        vertical-align: middle;\n",
              "    }\n",
              "\n",
              "    .dataframe tbody tr th {\n",
              "        vertical-align: top;\n",
              "    }\n",
              "\n",
              "    .dataframe thead th {\n",
              "        text-align: right;\n",
              "    }\n",
              "</style>\n",
              "<table border=\"1\" class=\"dataframe\">\n",
              "  <thead>\n",
              "    <tr style=\"text-align: right;\">\n",
              "      <th></th>\n",
              "      <th>jenis_kelamin</th>\n",
              "      <th>device</th>\n",
              "    </tr>\n",
              "  </thead>\n",
              "  <tbody>\n",
              "  </tbody>\n",
              "</table>\n",
              "</div>"
            ],
            "text/plain": [
              "Empty DataFrame\n",
              "Columns: [jenis_kelamin, device]\n",
              "Index: []"
            ]
          },
          "metadata": {},
          "execution_count": 19
        }
      ]
    },
    {
      "cell_type": "markdown",
      "source": [
        "Tidak ditemukan data outlier"
      ],
      "metadata": {
        "id": "hKLcYUdj1Wir"
      }
    },
    {
      "cell_type": "markdown",
      "source": [
        "#Visualisasi Data"
      ],
      "metadata": {
        "id": "arY8bkWrprba"
      }
    },
    {
      "cell_type": "markdown",
      "source": [
        "##Read the new Dataframe"
      ],
      "metadata": {
        "id": "jy4UulLb1oHT"
      }
    },
    {
      "cell_type": "code",
      "metadata": {
        "colab": {
          "base_uri": "https://localhost:8080/",
          "height": 424
        },
        "id": "Hi_Kj1fiQ63h",
        "outputId": "ffad2af2-b83a-4547-b9b8-3bf0d49ed1d7"
      },
      "source": [
        "fix_zoom_data = zoom_duplicated_free.drop(['screen','with_desk','with_sofa','on_floor','lay_low','mobile','audio_device','limit'], axis=1)\n",
        "fix_zoom_data"
      ],
      "execution_count": null,
      "outputs": [
        {
          "output_type": "execute_result",
          "data": {
            "text/html": [
              "<div>\n",
              "<style scoped>\n",
              "    .dataframe tbody tr th:only-of-type {\n",
              "        vertical-align: middle;\n",
              "    }\n",
              "\n",
              "    .dataframe tbody tr th {\n",
              "        vertical-align: top;\n",
              "    }\n",
              "\n",
              "    .dataframe thead th {\n",
              "        text-align: right;\n",
              "    }\n",
              "</style>\n",
              "<table border=\"1\" class=\"dataframe\">\n",
              "  <thead>\n",
              "    <tr style=\"text-align: right;\">\n",
              "      <th></th>\n",
              "      <th>jenis_kelamin</th>\n",
              "      <th>avg_usage</th>\n",
              "      <th>device</th>\n",
              "      <th>is_mata_lelah</th>\n",
              "      <th>is_pegal_pinggang</th>\n",
              "      <th>is_kesemutan</th>\n",
              "      <th>is_pegal_leher</th>\n",
              "      <th>is_sakit_kepala</th>\n",
              "      <th>is_pegal_jari</th>\n",
              "    </tr>\n",
              "  </thead>\n",
              "  <tbody>\n",
              "    <tr>\n",
              "      <th>0</th>\n",
              "      <td>0</td>\n",
              "      <td>5,5</td>\n",
              "      <td>Handphone</td>\n",
              "      <td>1</td>\n",
              "      <td>1</td>\n",
              "      <td>1</td>\n",
              "      <td>0</td>\n",
              "      <td>0</td>\n",
              "      <td>0</td>\n",
              "    </tr>\n",
              "    <tr>\n",
              "      <th>1</th>\n",
              "      <td>0</td>\n",
              "      <td>5</td>\n",
              "      <td>Handphone</td>\n",
              "      <td>1</td>\n",
              "      <td>0</td>\n",
              "      <td>1</td>\n",
              "      <td>1</td>\n",
              "      <td>1</td>\n",
              "      <td>0</td>\n",
              "    </tr>\n",
              "    <tr>\n",
              "      <th>2</th>\n",
              "      <td>0</td>\n",
              "      <td>9</td>\n",
              "      <td>Laptop</td>\n",
              "      <td>1</td>\n",
              "      <td>1</td>\n",
              "      <td>0</td>\n",
              "      <td>1</td>\n",
              "      <td>1</td>\n",
              "      <td>0</td>\n",
              "    </tr>\n",
              "    <tr>\n",
              "      <th>3</th>\n",
              "      <td>1</td>\n",
              "      <td>5</td>\n",
              "      <td>Laptop</td>\n",
              "      <td>0</td>\n",
              "      <td>1</td>\n",
              "      <td>0</td>\n",
              "      <td>0</td>\n",
              "      <td>0</td>\n",
              "      <td>0</td>\n",
              "    </tr>\n",
              "    <tr>\n",
              "      <th>4</th>\n",
              "      <td>0</td>\n",
              "      <td>2</td>\n",
              "      <td>Laptop</td>\n",
              "      <td>0</td>\n",
              "      <td>0</td>\n",
              "      <td>1</td>\n",
              "      <td>0</td>\n",
              "      <td>0</td>\n",
              "      <td>0</td>\n",
              "    </tr>\n",
              "    <tr>\n",
              "      <th>...</th>\n",
              "      <td>...</td>\n",
              "      <td>...</td>\n",
              "      <td>...</td>\n",
              "      <td>...</td>\n",
              "      <td>...</td>\n",
              "      <td>...</td>\n",
              "      <td>...</td>\n",
              "      <td>...</td>\n",
              "      <td>...</td>\n",
              "    </tr>\n",
              "    <tr>\n",
              "      <th>283</th>\n",
              "      <td>1</td>\n",
              "      <td>5</td>\n",
              "      <td>Laptop</td>\n",
              "      <td>1</td>\n",
              "      <td>1</td>\n",
              "      <td>0</td>\n",
              "      <td>1</td>\n",
              "      <td>1</td>\n",
              "      <td>0</td>\n",
              "    </tr>\n",
              "    <tr>\n",
              "      <th>284</th>\n",
              "      <td>0</td>\n",
              "      <td>5</td>\n",
              "      <td>Komputer Desktop</td>\n",
              "      <td>0</td>\n",
              "      <td>1</td>\n",
              "      <td>0</td>\n",
              "      <td>1</td>\n",
              "      <td>0</td>\n",
              "      <td>0</td>\n",
              "    </tr>\n",
              "    <tr>\n",
              "      <th>285</th>\n",
              "      <td>0</td>\n",
              "      <td>7</td>\n",
              "      <td>Laptop</td>\n",
              "      <td>1</td>\n",
              "      <td>1</td>\n",
              "      <td>0</td>\n",
              "      <td>1</td>\n",
              "      <td>1</td>\n",
              "      <td>1</td>\n",
              "    </tr>\n",
              "    <tr>\n",
              "      <th>286</th>\n",
              "      <td>1</td>\n",
              "      <td>4</td>\n",
              "      <td>Laptop</td>\n",
              "      <td>1</td>\n",
              "      <td>1</td>\n",
              "      <td>0</td>\n",
              "      <td>1</td>\n",
              "      <td>1</td>\n",
              "      <td>0</td>\n",
              "    </tr>\n",
              "    <tr>\n",
              "      <th>287</th>\n",
              "      <td>1</td>\n",
              "      <td>6</td>\n",
              "      <td>Laptop</td>\n",
              "      <td>0</td>\n",
              "      <td>0</td>\n",
              "      <td>0</td>\n",
              "      <td>0</td>\n",
              "      <td>0</td>\n",
              "      <td>0</td>\n",
              "    </tr>\n",
              "  </tbody>\n",
              "</table>\n",
              "<p>288 rows × 9 columns</p>\n",
              "</div>"
            ],
            "text/plain": [
              "     jenis_kelamin avg_usage  ... is_sakit_kepala  is_pegal_jari\n",
              "0                0       5,5  ...               0              0\n",
              "1                0         5  ...               1              0\n",
              "2                0         9  ...               1              0\n",
              "3                1         5  ...               0              0\n",
              "4                0         2  ...               0              0\n",
              "..             ...       ...  ...             ...            ...\n",
              "283              1         5  ...               1              0\n",
              "284              0         5  ...               0              0\n",
              "285              0         7  ...               1              1\n",
              "286              1         4  ...               1              0\n",
              "287              1         6  ...               0              0\n",
              "\n",
              "[288 rows x 9 columns]"
            ]
          },
          "metadata": {},
          "execution_count": 20
        }
      ]
    },
    {
      "cell_type": "code",
      "metadata": {
        "id": "kp82NnuQ7LZX"
      },
      "source": [
        "fix_zoom_data['avg_usage'] = pd.to_numeric(fix_zoom_data['avg_usage'],errors='coerce')"
      ],
      "execution_count": null,
      "outputs": []
    },
    {
      "cell_type": "code",
      "metadata": {
        "colab": {
          "base_uri": "https://localhost:8080/"
        },
        "id": "HzNqwMxy7zzV",
        "outputId": "4df365f2-9478-444a-aa40-1af9ef282188"
      },
      "source": [
        "fix_zoom_data.info()"
      ],
      "execution_count": null,
      "outputs": [
        {
          "output_type": "stream",
          "name": "stdout",
          "text": [
            "<class 'pandas.core.frame.DataFrame'>\n",
            "Int64Index: 288 entries, 0 to 287\n",
            "Data columns (total 9 columns):\n",
            " #   Column             Non-Null Count  Dtype  \n",
            "---  ------             --------------  -----  \n",
            " 0   jenis_kelamin      288 non-null    int64  \n",
            " 1   avg_usage          214 non-null    float64\n",
            " 2   device             288 non-null    object \n",
            " 3   is_mata_lelah      288 non-null    int64  \n",
            " 4   is_pegal_pinggang  288 non-null    int64  \n",
            " 5   is_kesemutan       288 non-null    int64  \n",
            " 6   is_pegal_leher     288 non-null    int64  \n",
            " 7   is_sakit_kepala    288 non-null    int64  \n",
            " 8   is_pegal_jari      288 non-null    int64  \n",
            "dtypes: float64(1), int64(7), object(1)\n",
            "memory usage: 22.5+ KB\n"
          ]
        }
      ]
    },
    {
      "cell_type": "markdown",
      "source": [
        "##Hitung jumlah responden berdasarkan gender"
      ],
      "metadata": {
        "id": "tvOZO1mP1wLK"
      }
    },
    {
      "cell_type": "code",
      "metadata": {
        "colab": {
          "base_uri": "https://localhost:8080/"
        },
        "id": "HvmlJ6iV2hb_",
        "outputId": "df31d6ec-9c21-4e46-e224-bc2ec33770e7"
      },
      "source": [
        "sum_0 = fix_zoom_data.loc[fix_zoom_data.jenis_kelamin == 0, 'jenis_kelamin'].count()\n",
        "sum_0"
      ],
      "execution_count": null,
      "outputs": [
        {
          "output_type": "execute_result",
          "data": {
            "text/plain": [
              "230"
            ]
          },
          "metadata": {},
          "execution_count": 23
        }
      ]
    },
    {
      "cell_type": "code",
      "metadata": {
        "colab": {
          "base_uri": "https://localhost:8080/"
        },
        "id": "sXVKEl4Q3a05",
        "outputId": "2d7628f5-4c13-478f-c647-9eebed9a32bf"
      },
      "source": [
        "sum_1 = fix_zoom_data.loc[fix_zoom_data.jenis_kelamin == 1, 'jenis_kelamin'].count()\n",
        "sum_1"
      ],
      "execution_count": null,
      "outputs": [
        {
          "output_type": "execute_result",
          "data": {
            "text/plain": [
              "58"
            ]
          },
          "metadata": {},
          "execution_count": 24
        }
      ]
    },
    {
      "cell_type": "markdown",
      "source": [
        "Laki - laki : 58\n",
        "\n",
        "Perempuan : 230\n",
        "\n",
        "Total Responden : 288"
      ],
      "metadata": {
        "id": "j7a-Zt7y17TK"
      }
    },
    {
      "cell_type": "markdown",
      "source": [
        "##Visualisasi 1. Rata-rata waktu online berdasarkan gender"
      ],
      "metadata": {
        "id": "zAizzrbO2eTZ"
      }
    },
    {
      "cell_type": "code",
      "metadata": {
        "id": "bCUxovQ6v0NQ"
      },
      "source": [
        "import numpy as np\n",
        "import matplotlib.pyplot as plt"
      ],
      "execution_count": null,
      "outputs": []
    },
    {
      "cell_type": "code",
      "metadata": {
        "colab": {
          "base_uri": "https://localhost:8080/"
        },
        "id": "0jsxdBX36COo",
        "outputId": "1bd86a71-c2bd-41f1-ec92-5b909ecd5d74"
      },
      "source": [
        "rata_rata = fix_zoom_data.groupby('jenis_kelamin')['avg_usage'].mean()\n",
        "rata_rata"
      ],
      "execution_count": null,
      "outputs": [
        {
          "output_type": "execute_result",
          "data": {
            "text/plain": [
              "jenis_kelamin\n",
              "0    6.305389\n",
              "1    5.659574\n",
              "Name: avg_usage, dtype: float64"
            ]
          },
          "metadata": {},
          "execution_count": 26
        }
      ]
    },
    {
      "cell_type": "code",
      "source": [
        "menMeans = (5.6, 6.3)\n",
        "avg_male = rata_rata[1]\n",
        "avg_female = rata_rata[0]\n",
        "data_dict = {'Laki-Laki':avg_male, 'Perempuan':avg_female}\n",
        "courses = list(data_dict.keys())\n",
        "values = list(data_dict.values())\n",
        "fig, ax = plt.subplots(figsize = (5,8))\n",
        "# ax.bar(ind,menMeans,width)\n",
        "for index,data in enumerate(menMeans):\n",
        "    plt.text(x=index , y =data+0.1 , s=f\"{data}\" , fontdict=dict(fontsize=15), ha='center')\n",
        "\n",
        "#  Bar plot\n",
        "plt.bar(courses, values, color ='#D3B651', width = 0.5)\n",
        "# plt.xlabel(\"Jenis Kelamin\")\n",
        "plt.ylabel(\"Waktu Online (jam)\", fontsize=15)\n",
        "plt.title(\"Waktu Rata-rata Online Berdasarkan Gender\", fontsize=15)\n",
        "plt.show()"
      ],
      "metadata": {
        "colab": {
          "base_uri": "https://localhost:8080/",
          "height": 506
        },
        "id": "N6SQXAlwErM_",
        "outputId": "b242e460-2505-4a7d-8b09-0b2cd5c58b70"
      },
      "execution_count": null,
      "outputs": [
        {
          "output_type": "display_data",
          "data": {
            "image/png": "[encoded data removed]",
            "text/plain": [
              "<Figure size 360x576 with 1 Axes>"
            ]
          },
          "metadata": {
            "needs_background": "light"
          }
        }
      ]
    },
    {
      "cell_type": "markdown",
      "source": [
        "##Visualisasi 2. Keluhan yang sering dialami mahasiswa (Umum)"
      ],
      "metadata": {
        "id": "h-qU61qN2xxS"
      }
    },
    {
      "cell_type": "code",
      "metadata": {
        "colab": {
          "base_uri": "https://localhost:8080/",
          "height": 424
        },
        "id": "6KspRpydEK9r",
        "outputId": "563718fa-eeee-48a6-8f14-6b8451739319"
      },
      "source": [
        "fix_zoom_data"
      ],
      "execution_count": null,
      "outputs": [
        {
          "output_type": "execute_result",
          "data": {
            "text/html": [
              "<div>\n",
              "<style scoped>\n",
              "    .dataframe tbody tr th:only-of-type {\n",
              "        vertical-align: middle;\n",
              "    }\n",
              "\n",
              "    .dataframe tbody tr th {\n",
              "        vertical-align: top;\n",
              "    }\n",
              "\n",
              "    .dataframe thead th {\n",
              "        text-align: right;\n",
              "    }\n",
              "</style>\n",
              "<table border=\"1\" class=\"dataframe\">\n",
              "  <thead>\n",
              "    <tr style=\"text-align: right;\">\n",
              "      <th></th>\n",
              "      <th>jenis_kelamin</th>\n",
              "      <th>avg_usage</th>\n",
              "      <th>device</th>\n",
              "      <th>is_mata_lelah</th>\n",
              "      <th>is_pegal_pinggang</th>\n",
              "      <th>is_kesemutan</th>\n",
              "      <th>is_pegal_leher</th>\n",
              "      <th>is_sakit_kepala</th>\n",
              "      <th>is_pegal_jari</th>\n",
              "    </tr>\n",
              "  </thead>\n",
              "  <tbody>\n",
              "    <tr>\n",
              "      <th>0</th>\n",
              "      <td>0</td>\n",
              "      <td>NaN</td>\n",
              "      <td>Handphone</td>\n",
              "      <td>1</td>\n",
              "      <td>1</td>\n",
              "      <td>1</td>\n",
              "      <td>0</td>\n",
              "      <td>0</td>\n",
              "      <td>0</td>\n",
              "    </tr>\n",
              "    <tr>\n",
              "      <th>1</th>\n",
              "      <td>0</td>\n",
              "      <td>5.0</td>\n",
              "      <td>Handphone</td>\n",
              "      <td>1</td>\n",
              "      <td>0</td>\n",
              "      <td>1</td>\n",
              "      <td>1</td>\n",
              "      <td>1</td>\n",
              "      <td>0</td>\n",
              "    </tr>\n",
              "    <tr>\n",
              "      <th>2</th>\n",
              "      <td>0</td>\n",
              "      <td>9.0</td>\n",
              "      <td>Laptop</td>\n",
              "      <td>1</td>\n",
              "      <td>1</td>\n",
              "      <td>0</td>\n",
              "      <td>1</td>\n",
              "      <td>1</td>\n",
              "      <td>0</td>\n",
              "    </tr>\n",
              "    <tr>\n",
              "      <th>3</th>\n",
              "      <td>1</td>\n",
              "      <td>5.0</td>\n",
              "      <td>Laptop</td>\n",
              "      <td>0</td>\n",
              "      <td>1</td>\n",
              "      <td>0</td>\n",
              "      <td>0</td>\n",
              "      <td>0</td>\n",
              "      <td>0</td>\n",
              "    </tr>\n",
              "    <tr>\n",
              "      <th>4</th>\n",
              "      <td>0</td>\n",
              "      <td>2.0</td>\n",
              "      <td>Laptop</td>\n",
              "      <td>0</td>\n",
              "      <td>0</td>\n",
              "      <td>1</td>\n",
              "      <td>0</td>\n",
              "      <td>0</td>\n",
              "      <td>0</td>\n",
              "    </tr>\n",
              "    <tr>\n",
              "      <th>...</th>\n",
              "      <td>...</td>\n",
              "      <td>...</td>\n",
              "      <td>...</td>\n",
              "      <td>...</td>\n",
              "      <td>...</td>\n",
              "      <td>...</td>\n",
              "      <td>...</td>\n",
              "      <td>...</td>\n",
              "      <td>...</td>\n",
              "    </tr>\n",
              "    <tr>\n",
              "      <th>283</th>\n",
              "      <td>1</td>\n",
              "      <td>5.0</td>\n",
              "      <td>Laptop</td>\n",
              "      <td>1</td>\n",
              "      <td>1</td>\n",
              "      <td>0</td>\n",
              "      <td>1</td>\n",
              "      <td>1</td>\n",
              "      <td>0</td>\n",
              "    </tr>\n",
              "    <tr>\n",
              "      <th>284</th>\n",
              "      <td>0</td>\n",
              "      <td>5.0</td>\n",
              "      <td>Komputer Desktop</td>\n",
              "      <td>0</td>\n",
              "      <td>1</td>\n",
              "      <td>0</td>\n",
              "      <td>1</td>\n",
              "      <td>0</td>\n",
              "      <td>0</td>\n",
              "    </tr>\n",
              "    <tr>\n",
              "      <th>285</th>\n",
              "      <td>0</td>\n",
              "      <td>7.0</td>\n",
              "      <td>Laptop</td>\n",
              "      <td>1</td>\n",
              "      <td>1</td>\n",
              "      <td>0</td>\n",
              "      <td>1</td>\n",
              "      <td>1</td>\n",
              "      <td>1</td>\n",
              "    </tr>\n",
              "    <tr>\n",
              "      <th>286</th>\n",
              "      <td>1</td>\n",
              "      <td>4.0</td>\n",
              "      <td>Laptop</td>\n",
              "      <td>1</td>\n",
              "      <td>1</td>\n",
              "      <td>0</td>\n",
              "      <td>1</td>\n",
              "      <td>1</td>\n",
              "      <td>0</td>\n",
              "    </tr>\n",
              "    <tr>\n",
              "      <th>287</th>\n",
              "      <td>1</td>\n",
              "      <td>6.0</td>\n",
              "      <td>Laptop</td>\n",
              "      <td>0</td>\n",
              "      <td>0</td>\n",
              "      <td>0</td>\n",
              "      <td>0</td>\n",
              "      <td>0</td>\n",
              "      <td>0</td>\n",
              "    </tr>\n",
              "  </tbody>\n",
              "</table>\n",
              "<p>288 rows × 9 columns</p>\n",
              "</div>"
            ],
            "text/plain": [
              "     jenis_kelamin  avg_usage  ... is_sakit_kepala  is_pegal_jari\n",
              "0                0        NaN  ...               0              0\n",
              "1                0        5.0  ...               1              0\n",
              "2                0        9.0  ...               1              0\n",
              "3                1        5.0  ...               0              0\n",
              "4                0        2.0  ...               0              0\n",
              "..             ...        ...  ...             ...            ...\n",
              "283              1        5.0  ...               1              0\n",
              "284              0        5.0  ...               0              0\n",
              "285              0        7.0  ...               1              1\n",
              "286              1        4.0  ...               1              0\n",
              "287              1        6.0  ...               0              0\n",
              "\n",
              "[288 rows x 9 columns]"
            ]
          },
          "metadata": {},
          "execution_count": 28
        }
      ]
    },
    {
      "cell_type": "code",
      "metadata": {
        "colab": {
          "base_uri": "https://localhost:8080/"
        },
        "id": "0xqXEg7lECkE",
        "outputId": "86741d11-eb36-4275-a87d-4f9ed2c11f6e"
      },
      "source": [
        "code = 1\n",
        "for i in fix_zoom_data.loc[:,'device'].unique():\n",
        "  fix_zoom_data['device'].loc[fix_zoom_data['device']==i] = code\n",
        "  code += 1\n",
        "fix_zoom_data['device'] = fix_zoom_data['device'].astype('int64')"
      ],
      "execution_count": null,
      "outputs": [
        {
          "output_type": "stream",
          "name": "stderr",
          "text": [
            "/usr/local/lib/python3.7/dist-packages/pandas/core/indexing.py:670: SettingWithCopyWarning: \n",
            "A value is trying to be set on a copy of a slice from a DataFrame\n",
            "\n",
            "See the caveats in the documentation: https://pandas.pydata.org/pandas-docs/stable/user_guide/indexing.html#returning-a-view-versus-a-copy\n",
            "  iloc._setitem_with_indexer(indexer, value)\n"
          ]
        }
      ]
    },
    {
      "cell_type": "code",
      "metadata": {
        "colab": {
          "base_uri": "https://localhost:8080/",
          "height": 424
        },
        "id": "MK0eATlYESVX",
        "outputId": "2286a4fb-e849-45ca-9112-b653941d0df5"
      },
      "source": [
        "fix_zoom_data"
      ],
      "execution_count": null,
      "outputs": [
        {
          "output_type": "execute_result",
          "data": {
            "text/html": [
              "<div>\n",
              "<style scoped>\n",
              "    .dataframe tbody tr th:only-of-type {\n",
              "        vertical-align: middle;\n",
              "    }\n",
              "\n",
              "    .dataframe tbody tr th {\n",
              "        vertical-align: top;\n",
              "    }\n",
              "\n",
              "    .dataframe thead th {\n",
              "        text-align: right;\n",
              "    }\n",
              "</style>\n",
              "<table border=\"1\" class=\"dataframe\">\n",
              "  <thead>\n",
              "    <tr style=\"text-align: right;\">\n",
              "      <th></th>\n",
              "      <th>jenis_kelamin</th>\n",
              "      <th>avg_usage</th>\n",
              "      <th>device</th>\n",
              "      <th>is_mata_lelah</th>\n",
              "      <th>is_pegal_pinggang</th>\n",
              "      <th>is_kesemutan</th>\n",
              "      <th>is_pegal_leher</th>\n",
              "      <th>is_sakit_kepala</th>\n",
              "      <th>is_pegal_jari</th>\n",
              "    </tr>\n",
              "  </thead>\n",
              "  <tbody>\n",
              "    <tr>\n",
              "      <th>0</th>\n",
              "      <td>0</td>\n",
              "      <td>NaN</td>\n",
              "      <td>1</td>\n",
              "      <td>1</td>\n",
              "      <td>1</td>\n",
              "      <td>1</td>\n",
              "      <td>0</td>\n",
              "      <td>0</td>\n",
              "      <td>0</td>\n",
              "    </tr>\n",
              "    <tr>\n",
              "      <th>1</th>\n",
              "      <td>0</td>\n",
              "      <td>5.0</td>\n",
              "      <td>1</td>\n",
              "      <td>1</td>\n",
              "      <td>0</td>\n",
              "      <td>1</td>\n",
              "      <td>1</td>\n",
              "      <td>1</td>\n",
              "      <td>0</td>\n",
              "    </tr>\n",
              "    <tr>\n",
              "      <th>2</th>\n",
              "      <td>0</td>\n",
              "      <td>9.0</td>\n",
              "      <td>2</td>\n",
              "      <td>1</td>\n",
              "      <td>1</td>\n",
              "      <td>0</td>\n",
              "      <td>1</td>\n",
              "      <td>1</td>\n",
              "      <td>0</td>\n",
              "    </tr>\n",
              "    <tr>\n",
              "      <th>3</th>\n",
              "      <td>1</td>\n",
              "      <td>5.0</td>\n",
              "      <td>2</td>\n",
              "      <td>0</td>\n",
              "      <td>1</td>\n",
              "      <td>0</td>\n",
              "      <td>0</td>\n",
              "      <td>0</td>\n",
              "      <td>0</td>\n",
              "    </tr>\n",
              "    <tr>\n",
              "      <th>4</th>\n",
              "      <td>0</td>\n",
              "      <td>2.0</td>\n",
              "      <td>2</td>\n",
              "      <td>0</td>\n",
              "      <td>0</td>\n",
              "      <td>1</td>\n",
              "      <td>0</td>\n",
              "      <td>0</td>\n",
              "      <td>0</td>\n",
              "    </tr>\n",
              "    <tr>\n",
              "      <th>...</th>\n",
              "      <td>...</td>\n",
              "      <td>...</td>\n",
              "      <td>...</td>\n",
              "      <td>...</td>\n",
              "      <td>...</td>\n",
              "      <td>...</td>\n",
              "      <td>...</td>\n",
              "      <td>...</td>\n",
              "      <td>...</td>\n",
              "    </tr>\n",
              "    <tr>\n",
              "      <th>283</th>\n",
              "      <td>1</td>\n",
              "      <td>5.0</td>\n",
              "      <td>2</td>\n",
              "      <td>1</td>\n",
              "      <td>1</td>\n",
              "      <td>0</td>\n",
              "      <td>1</td>\n",
              "      <td>1</td>\n",
              "      <td>0</td>\n",
              "    </tr>\n",
              "    <tr>\n",
              "      <th>284</th>\n",
              "      <td>0</td>\n",
              "      <td>5.0</td>\n",
              "      <td>3</td>\n",
              "      <td>0</td>\n",
              "      <td>1</td>\n",
              "      <td>0</td>\n",
              "      <td>1</td>\n",
              "      <td>0</td>\n",
              "      <td>0</td>\n",
              "    </tr>\n",
              "    <tr>\n",
              "      <th>285</th>\n",
              "      <td>0</td>\n",
              "      <td>7.0</td>\n",
              "      <td>2</td>\n",
              "      <td>1</td>\n",
              "      <td>1</td>\n",
              "      <td>0</td>\n",
              "      <td>1</td>\n",
              "      <td>1</td>\n",
              "      <td>1</td>\n",
              "    </tr>\n",
              "    <tr>\n",
              "      <th>286</th>\n",
              "      <td>1</td>\n",
              "      <td>4.0</td>\n",
              "      <td>2</td>\n",
              "      <td>1</td>\n",
              "      <td>1</td>\n",
              "      <td>0</td>\n",
              "      <td>1</td>\n",
              "      <td>1</td>\n",
              "      <td>0</td>\n",
              "    </tr>\n",
              "    <tr>\n",
              "      <th>287</th>\n",
              "      <td>1</td>\n",
              "      <td>6.0</td>\n",
              "      <td>2</td>\n",
              "      <td>0</td>\n",
              "      <td>0</td>\n",
              "      <td>0</td>\n",
              "      <td>0</td>\n",
              "      <td>0</td>\n",
              "      <td>0</td>\n",
              "    </tr>\n",
              "  </tbody>\n",
              "</table>\n",
              "<p>288 rows × 9 columns</p>\n",
              "</div>"
            ],
            "text/plain": [
              "     jenis_kelamin  avg_usage  ...  is_sakit_kepala  is_pegal_jari\n",
              "0                0        NaN  ...                0              0\n",
              "1                0        5.0  ...                1              0\n",
              "2                0        9.0  ...                1              0\n",
              "3                1        5.0  ...                0              0\n",
              "4                0        2.0  ...                0              0\n",
              "..             ...        ...  ...              ...            ...\n",
              "283              1        5.0  ...                1              0\n",
              "284              0        5.0  ...                0              0\n",
              "285              0        7.0  ...                1              1\n",
              "286              1        4.0  ...                1              0\n",
              "287              1        6.0  ...                0              0\n",
              "\n",
              "[288 rows x 9 columns]"
            ]
          },
          "metadata": {},
          "execution_count": 40
        }
      ]
    },
    {
      "cell_type": "markdown",
      "metadata": {
        "id": "k7aWee1mEaH0"
      },
      "source": [
        "Device\n",
        "- 1 : Handphone\n",
        "- 2: Laptop\n",
        "- 3 : Komputer Desktop\t"
      ]
    },
    {
      "cell_type": "code",
      "metadata": {
        "id": "730ps_1VOlzz"
      },
      "source": [
        "import seaborn as sns \n",
        "import matplotlib as mpl"
      ],
      "execution_count": null,
      "outputs": []
    },
    {
      "cell_type": "code",
      "metadata": {
        "colab": {
          "base_uri": "https://localhost:8080/",
          "height": 89
        },
        "id": "avS-ied_OaZE",
        "outputId": "1087bdc9-9811-4a32-fbae-dff434d99d6b"
      },
      "source": [
        "colors_mix = [\"#17869E\", '#264D58', '#179E66', '#D35151', '#E9DAB4', '#E9B4B4', '#D3B651', '#6351D3']\n",
        "sns.palplot(colors_mix)"
      ],
      "execution_count": null,
      "outputs": [
        {
          "output_type": "display_data",
          "data": {
            "image/png": "[encoded data removed]",
            "text/plain": [
              "<Figure size 576x72 with 1 Axes>"
            ]
          },
          "metadata": {
            "needs_background": "light"
          }
        }
      ]
    },
    {
      "cell_type": "code",
      "metadata": {
        "id": "HCMTsmKFE9vx"
      },
      "source": [
        "sum_mata_lelah = fix_zoom_data.loc[fix_zoom_data.is_mata_lelah == 1, 'is_mata_lelah'].count()\n",
        "sum_pegal_pinggang = fix_zoom_data.loc[fix_zoom_data.is_pegal_pinggang == 1, 'is_pegal_pinggang'].count()\n",
        "sum_kesemutan = fix_zoom_data.loc[fix_zoom_data.is_kesemutan == 1, 'is_kesemutan'].count()\n",
        "sum_pegal_leher = fix_zoom_data.loc[fix_zoom_data.is_pegal_leher == 1, 'is_pegal_leher'].count()\n",
        "sum_sakit_kepala = fix_zoom_data.loc[fix_zoom_data.is_sakit_kepala == 1, 'is_sakit_kepala'].count()\n",
        "sum_pegal_jari = fix_zoom_data.loc[fix_zoom_data.is_pegal_jari == 1, 'is_pegal_jari'].count()"
      ],
      "execution_count": null,
      "outputs": []
    },
    {
      "cell_type": "code",
      "metadata": {
        "colab": {
          "base_uri": "https://localhost:8080/",
          "height": 592
        },
        "id": "YR9J62luD4mt",
        "outputId": "40f251e1-c74f-47fa-a0f2-efa66a1f0dee"
      },
      "source": [
        "labels = 'Mata Lelah', 'Pegal Pinggang', 'Kesemutan','Pegal Leher', 'Sakit Kepala', 'Pegal Jari'\n",
        "sizes = [sum_mata_lelah, sum_pegal_pinggang, sum_kesemutan, sum_pegal_leher, sum_sakit_kepala, sum_pegal_jari]\n",
        "colors = ['#D35151', '#E9DAB4', '#E9B4B4', '#D3B651', 'gold','#6351D3']\n",
        "explode = (0.1,0,0,0,0,0)\n",
        "\n",
        "# plt.text(s=\"Keluhan yang dirasakan ketika melakukan perkuliahan daring\", ha='center',x=0, y=1.4, fontsize=24, fontweight='bold', color='#264D58')\n",
        "plt.title(\"Rata-rata keluhan yang dialami mahasiswa\", fontsize=15)\n",
        "plt.pie(sizes, explode=explode, labels=labels, autopct='%1.1f%%', colors=colors)\n",
        "plt.axis('equal')\n",
        "plt.rcParams[\"figure.figsize\"] = (10,10)\n",
        "mpl.rcParams['font.size'] = 15.0\n",
        "plt.show()"
      ],
      "execution_count": null,
      "outputs": [
        {
          "output_type": "display_data",
          "data": {
            "image/png": "[encoded data removed]",
            "text/plain": [
              "<Figure size 720x720 with 1 Axes>"
            ]
          },
          "metadata": {}
        }
      ]
    },
    {
      "cell_type": "markdown",
      "source": [
        "###Keluhan Berdasarkan device yang digunakan"
      ],
      "metadata": {
        "id": "n1weFwuy2-aT"
      }
    },
    {
      "cell_type": "code",
      "metadata": {
        "colab": {
          "base_uri": "https://localhost:8080/"
        },
        "id": "r8qaWntPHA2l",
        "outputId": "1e611471-ce3f-442d-b44e-33c36d31dde0"
      },
      "source": [
        "sum_device_mata_lelah = fix_zoom_data.groupby('device')['is_mata_lelah'].sum()\n",
        "sum_device_mata_lelah"
      ],
      "execution_count": null,
      "outputs": [
        {
          "output_type": "execute_result",
          "data": {
            "text/plain": [
              "device\n",
              "1     38\n",
              "2    190\n",
              "3      4\n",
              "Name: is_mata_lelah, dtype: int64"
            ]
          },
          "metadata": {},
          "execution_count": 52
        }
      ]
    },
    {
      "cell_type": "code",
      "metadata": {
        "id": "Ko9ZVqzjITEk"
      },
      "source": [
        "sum_device_pegal_pinggang = fix_zoom_data.groupby('device')['is_pegal_pinggang'].sum()\n",
        "sum_device_kesemutan = fix_zoom_data.groupby('device')['is_kesemutan'].sum()\n",
        "sum_device_pegal_leher = fix_zoom_data.groupby('device')['is_pegal_leher'].sum()\n",
        "sum_device_sakit_kepala = fix_zoom_data.groupby('device')['is_sakit_kepala'].sum()\n",
        "sum_device_pegal_jari = fix_zoom_data.groupby('device')['is_pegal_jari'].sum()"
      ],
      "execution_count": null,
      "outputs": []
    },
    {
      "cell_type": "code",
      "source": [
        "sum_device_pegal_jari"
      ],
      "metadata": {
        "colab": {
          "base_uri": "https://localhost:8080/"
        },
        "id": "dbFKSnMw4af3",
        "outputId": "fd348495-82c6-4c0f-9f20-b918c4e42598"
      },
      "execution_count": null,
      "outputs": [
        {
          "output_type": "execute_result",
          "data": {
            "text/plain": [
              "device\n",
              "1    12\n",
              "2    43\n",
              "3     0\n",
              "Name: is_pegal_jari, dtype: int64"
            ]
          },
          "metadata": {},
          "execution_count": 54
        }
      ]
    },
    {
      "cell_type": "markdown",
      "metadata": {
        "id": "N0cCN7wUKDuG"
      },
      "source": [
        "####**Visualisasi 2.1 Handphone**"
      ]
    },
    {
      "cell_type": "code",
      "metadata": {
        "colab": {
          "base_uri": "https://localhost:8080/",
          "height": 594
        },
        "id": "RyjfNxI1JBr6",
        "outputId": "bfe7bcfa-1775-46db-de13-d45f614ea92c"
      },
      "source": [
        "labels = 'Mata Lelah', 'Pegal Pinggang', 'Kesemutan','Pegal Leher', 'Sakit Kepala', 'Pegal Jari'\n",
        "sizes = [sum_device_mata_lelah[1], sum_device_pegal_pinggang[1], \n",
        "         sum_device_kesemutan[1], sum_device_pegal_leher[1], \n",
        "         sum_device_sakit_kepala[1], sum_device_pegal_jari[1]]\n",
        "colors = ['#D35151', '#E9DAB4', '#E9B4B4', '#D3B651', 'gold','#6351D3']\n",
        "explode = (0,0,0,0,0,0)\n",
        "\n",
        "plt.title(\"Rata-rata keluhan yang dialami mahasiswa (Handphone)\")\n",
        "plt.pie(sizes, explode=explode, labels=labels, autopct='%1.1f%%', colors=colors)\n",
        "plt.axis('equal')\n",
        "plt.show()\n",
        "plt.rcParams[\"figure.figsize\"] = (10,10)"
      ],
      "execution_count": null,
      "outputs": [
        {
          "output_type": "display_data",
          "data": {
            "image/png": "[encoded data removed]",
            "text/plain": [
              "<Figure size 720x720 with 1 Axes>"
            ]
          },
          "metadata": {}
        }
      ]
    },
    {
      "cell_type": "markdown",
      "metadata": {
        "id": "7HIxBkyrKMfa"
      },
      "source": [
        "####**Visualisasi 2.2 Laptop**"
      ]
    },
    {
      "cell_type": "code",
      "metadata": {
        "colab": {
          "base_uri": "https://localhost:8080/",
          "height": 596
        },
        "id": "O7eTD576KMNx",
        "outputId": "7ff685f6-21af-4481-8752-852a1439e54a"
      },
      "source": [
        "labels = 'Mata Lelah', 'Pegal Pinggang', 'Kesemutan','Pegal Leher', 'Sakit Kepala', 'Pegal Jari'\n",
        "sizes = [sum_device_mata_lelah[2], sum_device_pegal_pinggang[2], \n",
        "         sum_device_kesemutan[2], sum_device_pegal_leher[2], \n",
        "         sum_device_sakit_kepala[2], sum_device_pegal_jari[2]]\n",
        "colors = ['#D35151', '#E9DAB4', '#E9B4B4', '#D3B651', 'gold','#6351D3']\n",
        "explode = (0,0,0,0,0,0)\n",
        "\n",
        "plt.title(\"Rata-rata keluhan yang dialami mahasiswa (Laptop)\")\n",
        "plt.pie(sizes, explode=explode, labels=labels, autopct='%1.1f%%', colors=colors)\n",
        "plt.axis('equal')\n",
        "plt.show()\n",
        "plt.rcParams[\"figure.figsize\"] = (10,10)"
      ],
      "execution_count": null,
      "outputs": [
        {
          "output_type": "display_data",
          "data": {
            "image/png": "[encoded data removed]",
            "text/plain": [
              "<Figure size 720x720 with 1 Axes>"
            ]
          },
          "metadata": {}
        }
      ]
    },
    {
      "cell_type": "markdown",
      "metadata": {
        "id": "DSca2VoBKaY6"
      },
      "source": [
        "####**Visualisasi 2.3 Komputer Dekstop**"
      ]
    },
    {
      "cell_type": "code",
      "metadata": {
        "colab": {
          "base_uri": "https://localhost:8080/",
          "height": 605
        },
        "id": "Nq6CFGY1KZ5E",
        "outputId": "891cd7ba-35f7-46ee-ef55-dd38dcf0f0ab"
      },
      "source": [
        "labels = 'Mata Lelah', 'Pegal Pinggang', 'Kesemutan','Pegal Leher', 'Sakit Kepala', 'Pegal Jari'\n",
        "sizes = [sum_device_mata_lelah[3], sum_device_pegal_pinggang[3], \n",
        "         sum_device_kesemutan[3], sum_device_pegal_leher[3], \n",
        "         sum_device_sakit_kepala[3], sum_device_pegal_jari[3]]\n",
        "colors = ['#D35151', '#E9DAB4', '#E9B4B4', '#D3B651', 'gold','#6351D3']\n",
        "explode = (0,0,0,0,0,0)\n",
        "\n",
        "plt.title(\"Rata-rata keluhan yang dialami mahasiswa (Komputer Desktop)\")\n",
        "plt.pie(sizes, explode=explode, labels=labels, autopct='%1.1f%%', colors=colors)\n",
        "plt.axis('equal')\n",
        "plt.show()\n",
        "plt.rcParams[\"figure.figsize\"] = (10,10)"
      ],
      "execution_count": null,
      "outputs": [
        {
          "output_type": "display_data",
          "data": {
            "image/png": "[encoded data removed]",
            "text/plain": [
              "<Figure size 720x720 with 1 Axes>"
            ]
          },
          "metadata": {}
        }
      ]
    },
    {
      "cell_type": "markdown",
      "metadata": {
        "id": "hd4JrakIpae3"
      },
      "source": [
        "Rata-rata dari mahasiswa mengalami kelelahan pada mata, apapun device yang mereka gunakan, kecuali pada device 'Komputer Dekstop'"
      ]
    },
    {
      "cell_type": "markdown",
      "source": [
        "##Visualisasi 3. Hubungan Gender dengan Jumlah Keluhanyang dirasakan"
      ],
      "metadata": {
        "id": "ARAu-MeLv4Sm"
      }
    },
    {
      "cell_type": "code",
      "source": [
        "genders_mata_lelah = fix_zoom_data.groupby('jenis_kelamin')['is_mata_lelah'].sum()\n",
        "genders_pegal_pinggang = fix_zoom_data.groupby('jenis_kelamin')['is_pegal_pinggang'].sum()\n",
        "genders_kesemutan = fix_zoom_data.groupby('jenis_kelamin')['is_kesemutan'].sum()\n",
        "genders_pegal_leher = fix_zoom_data.groupby('jenis_kelamin')['is_pegal_leher'].sum()\n",
        "genders_sakit_kepala = fix_zoom_data.groupby('jenis_kelamin')['is_sakit_kepala'].sum()\n",
        "genders_pegal_jari = fix_zoom_data.groupby('jenis_kelamin')['is_pegal_jari'].sum()"
      ],
      "metadata": {
        "id": "tDtpTXxIv3jF"
      },
      "execution_count": null,
      "outputs": []
    },
    {
      "cell_type": "code",
      "source": [
        "N = 6\n",
        "men_means = (genders_mata_lelah[1], genders_pegal_pinggang[1], \n",
        "             genders_kesemutan[1], genders_pegal_leher[1], \n",
        "             genders_sakit_kepala[1], genders_pegal_jari[1])\n",
        "\n",
        "women_means = (genders_mata_lelah[0], genders_pegal_pinggang[0], \n",
        "             genders_kesemutan[0], genders_pegal_leher[0], \n",
        "             genders_sakit_kepala[0], genders_pegal_jari[0])\n",
        "\n",
        "ind = np.arange(N)  # the x locations for the groups\n",
        "width = 0.35       # the width of the bars\n",
        "\n",
        "fig, ax = plt.subplots()\n",
        "rects1 = ax.bar(ind, men_means, width, color=colors_mix[3])\n",
        "rects2 = ax.bar(ind + width, women_means, width, color=colors_mix[6])\n",
        "\n",
        "ax.set_ylabel('Responden yang merasakan keluhan')\n",
        "ax.set_title('Hubungan Jenis Kelamin dan keluahan yang dirasakan')\n",
        "ax.set_xticks(ind + width / 2)\n",
        "ax.set_xticklabels(('Mata Lelah', 'Pegal Pinggang', 'Kesemutan','Pegal Leher', 'Sakit Kepala', 'Pegal Jari'))\n",
        "\n",
        "ax.legend((rects1[0], rects2[0]), ('Laki-laki', 'Perempuan'))\n",
        "\n",
        "\n",
        "def autolabel(rects):\n",
        "    for rect in rects:\n",
        "        height = rect.get_height()\n",
        "        ax.text(rect.get_x() + rect.get_width()/2, height,\n",
        "                '%d' % int(height),\n",
        "                ha='center', va='bottom')\n",
        "mpl.rcParams['font.size'] = 13.0\n",
        "\n",
        "autolabel(rects1)\n",
        "autolabel(rects2)\n",
        "\n",
        "plt.show()"
      ],
      "metadata": {
        "colab": {
          "base_uri": "https://localhost:8080/",
          "height": 612
        },
        "id": "4wZUyn0tyYVI",
        "outputId": "11808510-d87d-457b-d957-93834173afec"
      },
      "execution_count": null,
      "outputs": [
        {
          "output_type": "display_data",
          "data": {
            "image/png": "[encoded data removed]",
            "text/plain": [
              "<Figure size 720x720 with 1 Axes>"
            ]
          },
          "metadata": {
            "needs_background": "light"
          }
        }
      ]
    }
  ]
}